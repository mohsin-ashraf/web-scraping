{
 "cells": [
  {
   "cell_type": "markdown",
   "metadata": {},
   "source": [
    "# Scrapping your very first website \n",
    "# Try to deploy the projecteuler node js Scraper website online on huruku and show the demo\n",
    "# <h1 style ='color:green'>projecteuler.net</h1> "
   ]
  },
  {
   "cell_type": "code",
   "execution_count": 33,
   "metadata": {},
   "outputs": [],
   "source": [
    "#just to handle some wierd charactors\n",
    "#Read This article for more details : https://wiki.python.org/moin/UnicodeEncodeError\n",
    "def safeStr(obj):\n",
    "    try: return str(obj)\n",
    "    except UnicodeEncodeError:\n",
    "        return obj.encode('ascii', 'ignore').decode('ascii')\n",
    "    except: return \"\""
   ]
  },
  {
   "cell_type": "markdown",
   "metadata": {},
   "source": [
    "# Libraries to make a request to website \n",
    "Python has a list of available libraries for making requests to websites\n",
    "    - urllib\n",
    "    - requests\n",
    "    - mechanize (currently supported by just python 2.7 not by python 3.x)\n",
    "    - roboBrowser (Supported by python 3.4 or greater) #check this claim\n"
   ]
  },
  {
   "cell_type": "code",
   "execution_count": 3,
   "metadata": {},
   "outputs": [],
   "source": [
    "import urllib\n",
    "from bs4 import BeautifulSoup\n",
    "import urlparse"
   ]
  },
  {
   "cell_type": "code",
   "execution_count": 4,
   "metadata": {},
   "outputs": [],
   "source": [
    "projecteuler_url = \"https://projecteuler.net/archives\""
   ]
  },
  {
   "cell_type": "code",
   "execution_count": 5,
   "metadata": {},
   "outputs": [],
   "source": [
    "html = urllib.urlopen(projecteuler_url)"
   ]
  },
  {
   "cell_type": "code",
   "execution_count": 6,
   "metadata": {},
   "outputs": [
    {
     "data": {
      "text/plain": [
       "200"
      ]
     },
     "execution_count": 6,
     "metadata": {},
     "output_type": "execute_result"
    }
   ],
   "source": [
    "print html.code "
   ]
  },
  {
   "cell_type": "markdown",
   "metadata": {},
   "source": [
    "### Status code 200 means every thing is good to go"
   ]
  },
  {
   "cell_type": "code",
   "execution_count": 8,
   "metadata": {},
   "outputs": [
    {
     "data": {
      "text/plain": [
       "instance"
      ]
     },
     "execution_count": 8,
     "metadata": {},
     "output_type": "execute_result"
    }
   ],
   "source": [
    "type(html)"
   ]
  },
  {
   "cell_type": "code",
   "execution_count": 11,
   "metadata": {},
   "outputs": [
    {
     "data": {
      "text/plain": [
       "<addinfourl at 81535824 whose fp = <socket._fileobject object at 0x04DF47B0>>"
      ]
     },
     "execution_count": 11,
     "metadata": {},
     "output_type": "execute_result"
    }
   ],
   "source": [
    "print html"
   ]
  },
  {
   "cell_type": "markdown",
   "metadata": {},
   "source": [
    "### To convert it into a readable html code we have to apply the read method to html object(instance)"
   ]
  },
  {
   "cell_type": "code",
   "execution_count": 12,
   "metadata": {},
   "outputs": [],
   "source": [
    "html = html.read()"
   ]
  },
  {
   "cell_type": "code",
   "execution_count": 13,
   "metadata": {
    "collapsed": true
   },
   "outputs": [
    {
     "data": {
      "text/plain": [
       "'<!DOCTYPE html>\\r\\n<html lang=\"en\">\\r\\n<head>\\r\\n<meta charset=\"utf-8\" />\\r\\n<meta name=\"author\" content=\"Colin Hughes\" />\\r\\n<meta name=\"description\" content=\"A website dedicated to the fascinating world of mathematics and programming\" />\\r\\n<meta name=\"keywords\" content=\"programming,mathematics,problems,puzzles\" />\\r\\n<title>Archived Problems - Project Euler</title>\\r\\n<link rel=\"shortcut icon\" href=\"favicon.ico\" />\\r\\n<link rel=\"stylesheet\" type=\"text/css\" href=\"themes/20180507/style_default.css\" />\\r\\n<script type=\"text/x-mathjax-config\">\\r\\n   MathJax.Hub.Config({\\r\\n      jax: [\"input/TeX\", \"output/HTML-CSS\"],\\r\\n      tex2jax: {\\r\\n         inlineMath: [ [\"$\",\"$\"], [\"\\\\\\\\(\",\"\\\\\\\\)\"] ],\\r\\n         displayMath: [ [\"$$\",\"$$\"], [\"\\\\\\\\[\",\"\\\\\\\\]\"] ],\\r\\n         processEscapes: true\\r\\n      },\\r\\n      \"HTML-CSS\": { availableFonts: [\"TeX\"] }\\r\\n   });\\r\\n</script>\\r\\n<script async src=\"https://cdnjs.cloudflare.com/ajax/libs/mathjax/2.7.4/MathJax.js?config=TeX-AMS_HTML-full,Safe\"></script></head>\\r\\n\\r\\n<body>\\r\\n<div id=\"container\">\\r\\n<div id=\"header\" class=\"noprint\">\\r\\n<div id=\"nav\" class=\"noprint\">\\r\\n<ul>\\r\\n<li><a href=\"about\" title=\"About\" accesskey=\"h\">About</a></li>\\n<li id=\"current\"><a href=\"archives\" title=\"Archives\" accesskey=\"1\">Archives</a></li>\\n<li><a href=\"recent\" title=\"Recent\" accesskey=\"2\">Recent</a></li>\\n<li><a href=\"news\" title=\"News\" accesskey=\"3\">News</a></li>\\n<li><a href=\"register\" title=\"Register\" accesskey=\"4\">Register</a></li>\\n<li><a href=\"sign_in\" title=\"Sign In\" accesskey=\"5\">Sign In</a></li>\\n</ul>\\r\\n</div>\\r\\n\\r\\n<div id=\"logo\" class=\"noprint\">\\r\\n   <div>Project Euler<span>.net</span></div>\\r\\n</div>\\r\\n\\r\\n</div>\\r\\n\\r\\n<div id=\"info_panel\"><a href=\"search\"><img src=\"images/icon_search.png\" alt=\"Search Problems\" title=\"Search Problems\" /></a><a href=\"rss2_euler.xml\"><img src=\"images/icon_rss.png\" alt=\"RSS Feed\" title=\"RSS Feed\" /></a></div>\\r\\n<div id=\"content\">\\r\\n\\r\\n<div id=\"problems_table_page\">\\n<div id=\"cache_info\">Cache update: 53 minutes</div><h2>Problems Archives</h2>\\n<ul style=\"padding-left:10px;\"><li>Problem 635 will be accessible in 3  days, 1  hour, 12  minutes (Saturday, 25th August 2018, 07:00 pm)</li></ul><p>The problems archives table shows problems 1 to 624. If you would like to tackle the 10 most recently published problems then go to <a href=\"recent\">Recent</a> problems.<br />Click the description/title of the problem to view details and submit your answer.</p><div class=\"pagination\"><a href=\"archives\" class=\"current\">1</a><a href=\"archives;page=2\" title=\"Go to page 2\">2</a><a href=\"archives;page=3\" title=\"Go to page 3\">3</a><a href=\"archives;page=4\" title=\"Go to page 4\">4</a><a href=\"archives;page=5\" title=\"Go to page 5\">5</a><a href=\"archives;page=6\" title=\"Go to page 6\">6</a><a href=\"archives;page=7\" title=\"Go to page 7\">7</a><a href=\"archives;page=8\" title=\"Go to page 8\">8</a><a href=\"archives;page=9\" title=\"Go to page 9\">9</a><a href=\"archives;page=10\" title=\"Go to page 10\">10</a><a href=\"archives;page=11\" title=\"Go to page 11\">11</a><span>&nbsp; ... &nbsp;</span><a href=\"archives;page=13\">13</a><span>&nbsp;&nbsp;&nbsp;Go to Problem: <input type=\"text\" id=\"jump_top\" style=\"width:30px;\" onkeypress=\"if (event.keyCode==13) location.href=\\'problem=\\'+this.value;\" /></span></div>\\n<div style=\"clear:both;\"></div>\\n<br />\\n\\n<table id=\"problems_table\" class=\"grid\">\\n<tr><th class=\"id_column\"><strong><span class=\"sortby\">ID</span></strong></th><th class=\"title_column\">Description / Title</th><th class=\"solved_by_column\"><strong>Solved By</th></tr>\\r\\n<tr><td class=\"id_column\">1</td><td><a href=\"problem=1\" title=\"Published on Friday, 5th October 2001, 06:00 pm\">Multiples of 3 and 5</a></td><td><div style=\"text-align:center;\">775083</div></td></tr>\\r\\n<tr><td class=\"id_column\">2</td><td><a href=\"problem=2\" title=\"Published on Friday, 19th October 2001, 06:00 pm\">Even Fibonacci numbers</a></td><td><div style=\"text-align:center;\">622073</div></td></tr>\\r\\n<tr><td class=\"id_column\">3</td><td><a href=\"problem=3\" title=\"Published on Friday, 2nd November 2001, 06:00 pm\">Largest prime factor</a></td><td><div style=\"text-align:center;\">445240</div></td></tr>\\r\\n<tr><td class=\"id_column\">4</td><td><a href=\"problem=4\" title=\"Published on Friday, 16th November 2001, 06:00 pm\">Largest palindrome product</a></td><td><div style=\"text-align:center;\">396033</div></td></tr>\\r\\n<tr><td class=\"id_column\">5</td><td><a href=\"problem=5\" title=\"Published on Friday, 30th November 2001, 06:00 pm\">Smallest multiple</a></td><td><div style=\"text-align:center;\">403946</div></td></tr>\\r\\n<tr><td class=\"id_column\">6</td><td><a href=\"problem=6\" title=\"Published on Friday, 14th December 2001, 06:00 pm\">Sum square difference</a></td><td><div style=\"text-align:center;\">406346</div></td></tr>\\r\\n<tr><td class=\"id_column\">7</td><td><a href=\"problem=7\" title=\"Published on Friday, 28th December 2001, 06:00 pm\">10001st prime</a></td><td><div style=\"text-align:center;\">347732</div></td></tr>\\r\\n<tr><td class=\"id_column\">8</td><td><a href=\"problem=8\" title=\"Published on Friday, 11th January 2002, 06:00 pm\">Largest product in a series</a></td><td><div style=\"text-align:center;\">293275</div></td></tr>\\r\\n<tr><td class=\"id_column\">9</td><td><a href=\"problem=9\" title=\"Published on Friday, 25th January 2002, 06:00 pm\">Special Pythagorean triplet</a></td><td><div style=\"text-align:center;\">296440</div></td></tr>\\r\\n<tr><td class=\"id_column\">10</td><td><a href=\"problem=10\" title=\"Published on Friday, 8th February 2002, 06:00 pm\">Summation of primes</a></td><td><div style=\"text-align:center;\">271837</div></td></tr>\\r\\n<tr><td class=\"id_column\">11</td><td><a href=\"problem=11\" title=\"Published on Friday, 22nd February 2002, 06:00 pm\">Largest product in a grid</a></td><td><div style=\"text-align:center;\">196759</div></td></tr>\\r\\n<tr><td class=\"id_column\">12</td><td><a href=\"problem=12\" title=\"Published on Friday, 8th March 2002, 06:00 pm\">Highly divisible triangular number</a></td><td><div style=\"text-align:center;\">184090</div></td></tr>\\r\\n<tr><td class=\"id_column\">13</td><td><a href=\"problem=13\" title=\"Published on Friday, 22nd March 2002, 06:00 pm\">Large sum</a></td><td><div style=\"text-align:center;\">189659</div></td></tr>\\r\\n<tr><td class=\"id_column\">14</td><td><a href=\"problem=14\" title=\"Published on Friday, 5th April 2002, 06:00 pm\">Longest Collatz sequence</a></td><td><div style=\"text-align:center;\">189330</div></td></tr>\\r\\n<tr><td class=\"id_column\">15</td><td><a href=\"problem=15\" title=\"Published on Friday, 19th April 2002, 06:00 pm\">Lattice paths</a></td><td><div style=\"text-align:center;\">156413</div></td></tr>\\r\\n<tr><td class=\"id_column\">16</td><td><a href=\"problem=16\" title=\"Published on Friday, 3rd May 2002, 06:00 pm\">Power digit sum</a></td><td><div style=\"text-align:center;\">191391</div></td></tr>\\r\\n<tr><td class=\"id_column\">17</td><td><a href=\"problem=17\" title=\"Published on Friday, 17th May 2002, 06:00 pm\">Number letter counts</a></td><td><div style=\"text-align:center;\">127233</div></td></tr>\\r\\n<tr><td class=\"id_column\">18</td><td><a href=\"problem=18\" title=\"Published on Friday, 31st May 2002, 06:00 pm\">Maximum path sum I</a></td><td><div style=\"text-align:center;\">122226</div></td></tr>\\r\\n<tr><td class=\"id_column\">19</td><td><a href=\"problem=19\" title=\"Published on Friday, 14th June 2002, 06:00 pm\">Counting Sundays</a></td><td><div style=\"text-align:center;\">113606</div></td></tr>\\r\\n<tr><td class=\"id_column\">20</td><td><a href=\"problem=20\" title=\"Published on Friday, 21st June 2002, 06:00 pm\">Factorial digit sum</a></td><td><div style=\"text-align:center;\">167517</div></td></tr>\\r\\n<tr><td class=\"id_column\">21</td><td><a href=\"problem=21\" title=\"Published on Friday, 5th July 2002, 06:00 pm\">Amicable numbers</a></td><td><div style=\"text-align:center;\">122721</div></td></tr>\\r\\n<tr><td class=\"id_column\">22</td><td><a href=\"problem=22\" title=\"Published on Friday, 19th July 2002, 06:00 pm\">Names scores</a></td><td><div style=\"text-align:center;\">113222</div></td></tr>\\r\\n<tr><td class=\"id_column\">23</td><td><a href=\"problem=23\" title=\"Published on Friday, 2nd August 2002, 06:00 pm\">Non-abundant sums</a></td><td><div style=\"text-align:center;\">87086</div></td></tr>\\r\\n<tr><td class=\"id_column\">24</td><td><a href=\"problem=24\" title=\"Published on Friday, 16th August 2002, 06:00 pm\">Lexicographic permutations</a></td><td><div style=\"text-align:center;\">96727</div></td></tr>\\r\\n<tr><td class=\"id_column\">25</td><td><a href=\"problem=25\" title=\"Published on Friday, 30th August 2002, 06:00 pm\">1000-digit Fibonacci number</a></td><td><div style=\"text-align:center;\">130865</div></td></tr>\\r\\n<tr><td class=\"id_column\">26</td><td><a href=\"problem=26\" title=\"Published on Friday, 13th September 2002, 06:00 pm\">Reciprocal cycles</a></td><td><div style=\"text-align:center;\">70182</div></td></tr>\\r\\n<tr><td class=\"id_column\">27</td><td><a href=\"problem=27\" title=\"Published on Friday, 27th September 2002, 06:00 pm\">Quadratic primes</a></td><td><div style=\"text-align:center;\">73350</div></td></tr>\\r\\n<tr><td class=\"id_column\">28</td><td><a href=\"problem=28\" title=\"Published on Friday, 11th October 2002, 06:00 pm\">Number spiral diagonals</a></td><td><div style=\"text-align:center;\">92087</div></td></tr>\\r\\n<tr><td class=\"id_column\">29</td><td><a href=\"problem=29\" title=\"Published on Friday, 25th October 2002, 06:00 pm\">Distinct powers</a></td><td><div style=\"text-align:center;\">88195</div></td></tr>\\r\\n<tr><td class=\"id_column\">30</td><td><a href=\"problem=30\" title=\"Published on Friday, 8th November 2002, 06:00 pm\">Digit fifth powers</a></td><td><div style=\"text-align:center;\">92396</div></td></tr>\\r\\n<tr><td class=\"id_column\">31</td><td><a href=\"problem=31\" title=\"Published on Friday, 22nd November 2002, 06:00 pm\">Coin sums</a></td><td><div style=\"text-align:center;\">70741</div></td></tr>\\r\\n<tr><td class=\"id_column\">32</td><td><a href=\"problem=32\" title=\"Published on Friday, 6th December 2002, 06:00 pm\">Pandigital products</a></td><td><div style=\"text-align:center;\">59574</div></td></tr>\\r\\n<tr><td class=\"id_column\">33</td><td><a href=\"problem=33\" title=\"Published on Friday, 20th December 2002, 06:00 pm\">Digit cancelling fractions</a></td><td><div style=\"text-align:center;\">60301</div></td></tr>\\r\\n<tr><td class=\"id_column\">34</td><td><a href=\"problem=34\" title=\"Published on Friday, 3rd January 2003, 06:00 pm\">Digit factorials</a></td><td><div style=\"text-align:center;\">79324</div></td></tr>\\r\\n<tr><td class=\"id_column\">35</td><td><a href=\"problem=35\" title=\"Published on Friday, 17th January 2003, 06:00 pm\">Circular primes</a></td><td><div style=\"text-align:center;\">71560</div></td></tr>\\r\\n<tr><td class=\"id_column\">36</td><td><a href=\"problem=36\" title=\"Published on Friday, 31st January 2003, 06:00 pm\">Double-base palindromes</a></td><td><div style=\"text-align:center;\">75381</div></td></tr>\\r\\n<tr><td class=\"id_column\">37</td><td><a href=\"problem=37\" title=\"Published on Friday, 14th February 2003, 06:00 pm\">Truncatable primes</a></td><td><div style=\"text-align:center;\">61939</div></td></tr>\\r\\n<tr><td class=\"id_column\">38</td><td><a href=\"problem=38\" title=\"Published on Friday, 28th February 2003, 06:00 pm\">Pandigital multiples</a></td><td><div style=\"text-align:center;\">52756</div></td></tr>\\r\\n<tr><td class=\"id_column\">39</td><td><a href=\"problem=39\" title=\"Published on Friday, 14th March 2003, 06:00 pm\">Integer right triangles</a></td><td><div style=\"text-align:center;\">61383</div></td></tr>\\r\\n<tr><td class=\"id_column\">40</td><td><a href=\"problem=40\" title=\"Published on Friday, 28th March 2003, 06:00 pm\">Champernowne\\'s constant</a></td><td><div style=\"text-align:center;\">67576</div></td></tr>\\r\\n<tr><td class=\"id_column\">41</td><td><a href=\"problem=41\" title=\"Published on Friday, 11th April 2003, 06:00 pm\">Pandigital prime</a></td><td><div style=\"text-align:center;\">57148</div></td></tr>\\r\\n<tr><td class=\"id_column\">42</td><td><a href=\"problem=42\" title=\"Published on Friday, 25th April 2003, 06:00 pm\">Coded triangle numbers</a></td><td><div style=\"text-align:center;\">63063</div></td></tr>\\r\\n<tr><td class=\"id_column\">43</td><td><a href=\"problem=43\" title=\"Published on Friday, 9th May 2003, 06:00 pm\">Sub-string divisibility</a></td><td><div style=\"text-align:center;\">49880</div></td></tr>\\r\\n<tr><td class=\"id_column\">44</td><td><a href=\"problem=44\" title=\"Published on Friday, 23rd May 2003, 06:00 pm\">Pentagon numbers</a></td><td><div style=\"text-align:center;\">48462</div></td></tr>\\r\\n<tr><td class=\"id_column\">45</td><td><a href=\"problem=45\" title=\"Published on Friday, 6th June 2003, 06:00 pm\">Triangular, pentagonal, and hexagonal</a></td><td><div style=\"text-align:center;\">60049</div></td></tr>\\r\\n<tr><td class=\"id_column\">46</td><td><a href=\"problem=46\" title=\"Published on Friday, 20th June 2003, 06:00 pm\">Goldbach\\'s other conjecture</a></td><td><div style=\"text-align:center;\">51264</div></td></tr>\\r\\n<tr><td class=\"id_column\">47</td><td><a href=\"problem=47\" title=\"Published on Friday, 4th July 2003, 06:00 pm\">Distinct primes factors</a></td><td><div style=\"text-align:center;\">48414</div></td></tr>\\r\\n<tr><td class=\"id_column\">48</td><td><a href=\"problem=48\" title=\"Published on Friday, 18th July 2003, 06:00 pm\">Self powers</a></td><td><div style=\"text-align:center;\">96100</div></td></tr>\\r\\n<tr><td class=\"id_column\">49</td><td><a href=\"problem=49\" title=\"Published on Friday, 1st August 2003, 06:00 pm\">Prime permutations</a></td><td><div style=\"text-align:center;\">48403</div></td></tr>\\r\\n<tr><td class=\"id_column\">50</td><td><a href=\"problem=50\" title=\"Published on Friday, 15th August 2003, 06:00 pm\">Consecutive prime sum</a></td><td><div style=\"text-align:center;\">52117</div></td></tr>\\r\\n</table>\\r\\n<br />\\n<div class=\"pagination\"><a href=\"archives\" class=\"current\">1</a><a href=\"archives;page=2\" title=\"Go to page 2\">2</a><a href=\"archives;page=3\" title=\"Go to page 3\">3</a><a href=\"archives;page=4\" title=\"Go to page 4\">4</a><a href=\"archives;page=5\" title=\"Go to page 5\">5</a><a href=\"archives;page=6\" title=\"Go to page 6\">6</a><a href=\"archives;page=7\" title=\"Go to page 7\">7</a><a href=\"archives;page=8\" title=\"Go to page 8\">8</a><a href=\"archives;page=9\" title=\"Go to page 9\">9</a><a href=\"archives;page=10\" title=\"Go to page 10\">10</a><a href=\"archives;page=11\" title=\"Go to page 11\">11</a><span>&nbsp; ... &nbsp;</span><a href=\"archives;page=13\">13</a><span>&nbsp;&nbsp;&nbsp;Go to Problem: <input type=\"text\" id=\"jump_bottom\" style=\"width:30px;\" onkeypress=\"if (event.keyCode==13) location.href=\\'problem=\\'+this.value;\" /></span></div>\\n<div style=\"clear:both;\"></div>\\r\\n<script type=\"text/javascript\">\\r\\nfunction gotoPage(elem) {\\r\\n   page = elem.value;\\r\\n   page_str = \";page=\" + page;\\r\\n   if (elem.value == 1) page_str = \"\";\\r\\n   if (page > 0 && page <= 13) location.href = \\'archives\\' + page_str;\\r\\n}\\r\\n//document.getElementById(\\'jump_top\\').focus();\\r\\n</script>\\r\\n\\r\\n</div></div>\\r\\n\\r\\n<div id=\"footer\" class=\"noprint\">\\r\\nProject Euler: <a href=\"copyright\">Copyright Information</a> | <a href=\"privacy\">Privacy Policy</a>\\r\\n<!--/Creative Commons License--><!-- <rdf:RDF xmlns=\"http://web.resource.org/cc/\" xmlns:dc=\"http://purl.org/dc/elements/1.1/\" xmlns:rdf=\"http://www.w3.org/1999/02/22-rdf-syntax-ns#\" xmlns:rdfs=\"http://www.w3.org/2000/01/rdf-schema#\">\\r\\n   <Work rdf:about=\"\">\\r\\n      <license rdf:resource=\"http://creativecommons.org/licenses/by-nc-sa/2.0/uk/\" />\\r\\n   <dc:type rdf:resource=\"http://purl.org/dc/dcmitype/Text\" />\\r\\n   </Work>\\r\\n   <License rdf:about=\"http://creativecommons.org/licenses/by-nc-sa/2.0/uk/\"><permits rdf:resource=\"http://web.resource.org/cc/Reproduction\"/><permits rdf:resource=\"http://web.resource.org/cc/Distribution\"/><requires rdf:resource=\"http://web.resource.org/cc/Notice\"/><requires rdf:resource=\"http://web.resource.org/cc/Attribution\"/><prohibits rdf:resource=\"http://web.resource.org/cc/CommercialUse\"/><permits rdf:resource=\"http://web.resource.org/cc/DerivativeWorks\"/><requires rdf:resource=\"http://web.resource.org/cc/ShareAlike\"/></License></rdf:RDF> -->\\r\\n</div>\\r\\n</div>\\r\\n</body>\\r\\n</html>\\r\\n'"
      ]
     },
     "execution_count": 13,
     "metadata": {},
     "output_type": "execute_result"
    }
   ],
   "source": [
    "print html"
   ]
  },
  {
   "cell_type": "markdown",
   "metadata": {},
   "source": [
    "# Check all the available libraries for scraping (basically parsing libs) in python and list them down\n",
    "Following are the most commonly used libraries in python for parsing the web content\n",
    "    - BeautifulSoup (bs4)\n",
    "    - lxml\n",
    "you can also use regex for parsing but that will be way more difficuilt.\n",
    "    - re (regular expression)"
   ]
  },
  {
   "cell_type": "code",
   "execution_count": 14,
   "metadata": {},
   "outputs": [],
   "source": [
    "soup = BeautifulSoup(html,'html.parser')"
   ]
  },
  {
   "cell_type": "code",
   "execution_count": 16,
   "metadata": {},
   "outputs": [],
   "source": [
    "table = soup.select('table#problems_table')"
   ]
  },
  {
   "cell_type": "code",
   "execution_count": 18,
   "metadata": {},
   "outputs": [
    {
     "data": {
      "text/plain": [
       "bs4.element.Tag"
      ]
     },
     "execution_count": 18,
     "metadata": {},
     "output_type": "execute_result"
    }
   ],
   "source": [
    "type(table[0])"
   ]
  },
  {
   "cell_type": "code",
   "execution_count": 12,
   "metadata": {
    "collapsed": true
   },
   "outputs": [
    {
     "name": "stdout",
     "output_type": "stream",
     "text": [
      "[<table class=\"grid\" id=\"problems_table\">\\n<tr><th class=\"id_column\"><strong><span class=\"sortby\">ID</span></strong></th><th class=\"title_column\">Description / Title</th><th class=\"solved_by_column\"><strong>Solved By</strong></th></tr>\\n<tr><td class=\"id_column\">1</td><td><a href=\"problem=1\" title=\"Published on Friday, 5th October 2001, 06:00 pm\">Multiples of 3 and 5</a></td><td><div style=\"text-align:center;\">759566</div></td></tr>\\n<tr><td class=\"id_column\">2</td><td><a href=\"problem=2\" title=\"Published on Friday, 19th October 2001, 06:00 pm\">Even Fibonacci numbers</a></td><td><div style=\"text-align:center;\">610118</div></td></tr>\\n<tr><td class=\"id_column\">3</td><td><a href=\"problem=3\" title=\"Published on Friday, 2nd November 2001, 06:00 pm\">Largest prime factor</a></td><td><div style=\"text-align:center;\">436868</div></td></tr>\\n<tr><td class=\"id_column\">4</td><td><a href=\"problem=4\" title=\"Published on Friday, 16th November 2001, 06:00 pm\">Largest palindrome product</a></td><td><div style=\"text-align:center;\">388782</div></td></tr>\\n<tr><td class=\"id_column\">5</td><td><a href=\"problem=5\" title=\"Published on Friday, 30th November 2001, 06:00 pm\">Smallest multiple</a></td><td><div style=\"text-align:center;\">396974</div></td></tr>\\n<tr><td class=\"id_column\">6</td><td><a href=\"problem=6\" title=\"Published on Friday, 14th December 2001, 06:00 pm\">Sum square difference</a></td><td><div style=\"text-align:center;\">399341</div></td></tr>\\n<tr><td class=\"id_column\">7</td><td><a href=\"problem=7\" title=\"Published on Friday, 28th December 2001, 06:00 pm\">10001st prime</a></td><td><div style=\"text-align:center;\">341840</div></td></tr>\\n<tr><td class=\"id_column\">8</td><td><a href=\"problem=8\" title=\"Published on Friday, 11th January 2002, 06:00 pm\">Largest product in a series</a></td><td><div style=\"text-align:center;\">288633</div></td></tr>\\n<tr><td class=\"id_column\">9</td><td><a href=\"problem=9\" title=\"Published on Friday, 25th January 2002, 06:00 pm\">Special Pythagorean triplet</a></td><td><div style=\"text-align:center;\">291602</div></td></tr>\\n<tr><td class=\"id_column\">10</td><td><a href=\"problem=10\" title=\"Published on Friday, 8th February 2002, 06:00 pm\">Summation of primes</a></td><td><div style=\"text-align:center;\">267425</div></td></tr>\\n<tr><td class=\"id_column\">11</td><td><a href=\"problem=11\" title=\"Published on Friday, 22nd February 2002, 06:00 pm\">Largest product in a grid</a></td><td><div style=\"text-align:center;\">193792</div></td></tr>\\n<tr><td class=\"id_column\">12</td><td><a href=\"problem=12\" title=\"Published on Friday, 8th March 2002, 06:00 pm\">Highly divisible triangular number</a></td><td><div style=\"text-align:center;\">181123</div></td></tr>\\n<tr><td class=\"id_column\">13</td><td><a href=\"problem=13\" title=\"Published on Friday, 22nd March 2002, 06:00 pm\">Large sum</a></td><td><div style=\"text-align:center;\">186795</div></td></tr>\\n<tr><td class=\"id_column\">14</td><td><a href=\"problem=14\" title=\"Published on Friday, 5th April 2002, 06:00 pm\">Longest Collatz sequence</a></td><td><div style=\"text-align:center;\">186345</div></td></tr>\\n<tr><td class=\"id_column\">15</td><td><a href=\"problem=15\" title=\"Published on Friday, 19th April 2002, 06:00 pm\">Lattice paths</a></td><td><div style=\"text-align:center;\">154089</div></td></tr>\\n<tr><td class=\"id_column\">16</td><td><a href=\"problem=16\" title=\"Published on Friday, 3rd May 2002, 06:00 pm\">Power digit sum</a></td><td><div style=\"text-align:center;\">188489</div></td></tr>\\n<tr><td class=\"id_column\">17</td><td><a href=\"problem=17\" title=\"Published on Friday, 17th May 2002, 06:00 pm\">Number letter counts</a></td><td><div style=\"text-align:center;\">125337</div></td></tr>\\n<tr><td class=\"id_column\">18</td><td><a href=\"problem=18\" title=\"Published on Friday, 31st May 2002, 06:00 pm\">Maximum path sum I</a></td><td><div style=\"text-align:center;\">120480</div></td></tr>\\n<tr><td class=\"id_column\">19</td><td><a href=\"problem=19\" title=\"Published on Friday, 14th June 2002, 06:00 pm\">Counting Sundays</a></td><td><div style=\"text-align:center;\">111940</div></td></tr>\\n<tr><td class=\"id_column\">20</td><td><a href=\"problem=20\" title=\"Published on Friday, 21st June 2002, 06:00 pm\">Factorial digit sum</a></td><td><div style=\"text-align:center;\">165156</div></td></tr>\\n<tr><td class=\"id_column\">21</td><td><a href=\"problem=21\" title=\"Published on Friday, 5th July 2002, 06:00 pm\">Amicable numbers</a></td><td><div style=\"text-align:center;\">120852</div></td></tr>\\n<tr><td class=\"id_column\">22</td><td><a href=\"problem=22\" title=\"Published on Friday, 19th July 2002, 06:00 pm\">Names scores</a></td><td><div style=\"text-align:center;\">111585</div></td></tr>\\n<tr><td class=\"id_column\">23</td><td><a href=\"problem=23\" title=\"Published on Friday, 2nd August 2002, 06:00 pm\">Non-abundant sums</a></td><td><div style=\"text-align:center;\">85749</div></td></tr>\\n<tr><td class=\"id_column\">24</td><td><a href=\"problem=24\" title=\"Published on Friday, 16th August 2002, 06:00 pm\">Lexicographic permutations</a></td><td><div style=\"text-align:center;\">95304</div></td></tr>\\n<tr><td class=\"id_column\">25</td><td><a href=\"problem=25\" title=\"Published on Friday, 30th August 2002, 06:00 pm\">1000-digit Fibonacci number</a></td><td><div style=\"text-align:center;\">128972</div></td></tr>\\n<tr><td class=\"id_column\">26</td><td><a href=\"problem=26\" title=\"Published on Friday, 13th September 2002, 06:00 pm\">Reciprocal cycles</a></td><td><div style=\"text-align:center;\">69152</div></td></tr>\\n<tr><td class=\"id_column\">27</td><td><a href=\"problem=27\" title=\"Published on Friday, 27th September 2002, 06:00 pm\">Quadratic primes</a></td><td><div style=\"text-align:center;\">72265</div></td></tr>\\n<tr><td class=\"id_column\">28</td><td><a href=\"problem=28\" title=\"Published on Friday, 11th October 2002, 06:00 pm\">Number spiral diagonals</a></td><td><div style=\"text-align:center;\">90865</div></td></tr>\\n<tr><td class=\"id_column\">29</td><td><a href=\"problem=29\" title=\"Published on Friday, 25th October 2002, 06:00 pm\">Distinct powers</a></td><td><div style=\"text-align:center;\">86859</div></td></tr>\\n<tr><td class=\"id_column\">30</td><td><a href=\"problem=30\" title=\"Published on Friday, 8th November 2002, 06:00 pm\">Digit fifth powers</a></td><td><div style=\"text-align:center;\">91021</div></td></tr>\\n<tr><td class=\"id_column\">31</td><td><a href=\"problem=31\" title=\"Published on Friday, 22nd November 2002, 06:00 pm\">Coin sums</a></td><td><div style=\"text-align:center;\">69662</div></td></tr>\\n<tr><td class=\"id_column\">32</td><td><a href=\"problem=32\" title=\"Published on Friday, 6th December 2002, 06:00 pm\">Pandigital products</a></td><td><div style=\"text-align:center;\">58695</div></td></tr>\\n<tr><td class=\"id_column\">33</td><td><a href=\"problem=33\" title=\"Published on Friday, 20th December 2002, 06:00 pm\">Digit cancelling fractions</a></td><td><div style=\"text-align:center;\">59402</div></td></tr>\\n<tr><td class=\"id_column\">34</td><td><a href=\"problem=34\" title=\"Published on Friday, 3rd January 2003, 06:00 pm\">Digit factorials</a></td><td><div style=\"text-align:center;\">78197</div></td></tr>\\n<tr><td class=\"id_column\">35</td><td><a href=\"problem=35\" title=\"Published on Friday, 17th January 2003, 06:00 pm\">Circular primes</a></td><td><div style=\"text-align:center;\">70524</div></td></tr>\\n<tr><td class=\"id_column\">36</td><td><a href=\"problem=36\" title=\"Published on Friday, 31st January 2003, 06:00 pm\">Double-base palindromes</a></td><td><div style=\"text-align:center;\">74314</div></td></tr>\\n<tr><td class=\"id_column\">37</td><td><a href=\"problem=37\" title=\"Published on Friday, 14th February 2003, 06:00 pm\">Truncatable primes</a></td><td><div style=\"text-align:center;\">61008</div></td></tr>\\n<tr><td class=\"id_column\">38</td><td><a href=\"problem=38\" title=\"Published on Friday, 28th February 2003, 06:00 pm\">Pandigital multiples</a></td><td><div style=\"text-align:center;\">51987</div></td></tr>\\n<tr><td class=\"id_column\">39</td><td><a href=\"problem=39\" title=\"Published on Friday, 14th March 2003, 06:00 pm\">Integer right triangles</a></td><td><div style=\"text-align:center;\">60489</div></td></tr>\\n<tr><td class=\"id_column\">40</td><td><a href=\"problem=40\" title=\"Published on Friday, 28th March 2003, 06:00 pm\">Champernowne's constant</a></td><td><div style=\"text-align:center;\">66622</div></td></tr>\\n<tr><td class=\"id_column\">41</td><td><a href=\"problem=41\" title=\"Published on Friday, 11th April 2003, 06:00 pm\">Pandigital prime</a></td><td><div style=\"text-align:center;\">56304</div></td></tr>\\n<tr><td class=\"id_column\">42</td><td><a href=\"problem=42\" title=\"Published on Friday, 25th April 2003, 06:00 pm\">Coded triangle numbers</a></td><td><div style=\"text-align:center;\">62196</div></td></tr>\\n<tr><td class=\"id_column\">43</td><td><a href=\"problem=43\" title=\"Published on Friday, 9th May 2003, 06:00 pm\">Sub-string divisibility</a></td><td><div style=\"text-align:center;\">49099</div></td></tr>\\n<tr><td class=\"id_column\">44</td><td><a href=\"problem=44\" title=\"Published on Friday, 23rd May 2003, 06:00 pm\">Pentagon numbers</a></td><td><div style=\"text-align:center;\">47715</div></td></tr>\\n<tr><td class=\"id_column\">45</td><td><a href=\"problem=45\" title=\"Published on Friday, 6th June 2003, 06:00 pm\">Triangular, pentagonal, and hexagonal</a></td><td><div style=\"text-align:center;\">59167</div></td></tr>\\n<tr><td class=\"id_column\">46</td><td><a href=\"problem=46\" title=\"Published on Friday, 20th June 2003, 06:00 pm\">Goldbach's other conjecture</a></td><td><div style=\"text-align:center;\">50462</div></td></tr>\\n<tr><td class=\"id_column\">47</td><td><a href=\"problem=47\" title=\"Published on Friday, 4th July 2003, 06:00 pm\">Distinct primes factors</a></td><td><div style=\"text-align:center;\">47684</div></td></tr>\\n<tr><td class=\"id_column\">48</td><td><a href=\"problem=48\" title=\"Published on Friday, 18th July 2003, 06:00 pm\">Self powers</a></td><td><div style=\"text-align:center;\">94911</div></td></tr>\\n<tr><td class=\"id_column\">49</td><td><a href=\"problem=49\" title=\"Published on Friday, 1st August 2003, 06:00 pm\">Prime permutations</a></td><td><div style=\"text-align:center;\">47667</div></td></tr>\\n<tr><td class=\"id_column\">50</td><td><a href=\"problem=50\" title=\"Published on Friday, 15th August 2003, 06:00 pm\">Consecutive prime sum</a></td><td><div style=\"text-align:center;\">51324</div></td></tr>\\n</table>]\n"
     ]
    }
   ],
   "source": [
    "print table"
   ]
  },
  {
   "cell_type": "code",
   "execution_count": 19,
   "metadata": {},
   "outputs": [
    {
     "data": {
      "text/plain": [
       "1"
      ]
     },
     "execution_count": 19,
     "metadata": {},
     "output_type": "execute_result"
    }
   ],
   "source": [
    "len(table)"
   ]
  },
  {
   "cell_type": "code",
   "execution_count": 20,
   "metadata": {},
   "outputs": [],
   "source": [
    "table = table[0]"
   ]
  },
  {
   "cell_type": "code",
   "execution_count": 21,
   "metadata": {
    "collapsed": true
   },
   "outputs": [
    {
     "data": {
      "text/plain": [
       "<table class=\"grid\" id=\"problems_table\">\\n<tr><th class=\"id_column\"><strong><span class=\"sortby\">ID</span></strong></th><th class=\"title_column\">Description / Title</th><th class=\"solved_by_column\"><strong>Solved By</strong></th></tr>\\n<tr><td class=\"id_column\">1</td><td><a href=\"problem=1\" title=\"Published on Friday, 5th October 2001, 06:00 pm\">Multiples of 3 and 5</a></td><td><div style=\"text-align:center;\">775083</div></td></tr>\\n<tr><td class=\"id_column\">2</td><td><a href=\"problem=2\" title=\"Published on Friday, 19th October 2001, 06:00 pm\">Even Fibonacci numbers</a></td><td><div style=\"text-align:center;\">622073</div></td></tr>\\n<tr><td class=\"id_column\">3</td><td><a href=\"problem=3\" title=\"Published on Friday, 2nd November 2001, 06:00 pm\">Largest prime factor</a></td><td><div style=\"text-align:center;\">445240</div></td></tr>\\n<tr><td class=\"id_column\">4</td><td><a href=\"problem=4\" title=\"Published on Friday, 16th November 2001, 06:00 pm\">Largest palindrome product</a></td><td><div style=\"text-align:center;\">396033</div></td></tr>\\n<tr><td class=\"id_column\">5</td><td><a href=\"problem=5\" title=\"Published on Friday, 30th November 2001, 06:00 pm\">Smallest multiple</a></td><td><div style=\"text-align:center;\">403946</div></td></tr>\\n<tr><td class=\"id_column\">6</td><td><a href=\"problem=6\" title=\"Published on Friday, 14th December 2001, 06:00 pm\">Sum square difference</a></td><td><div style=\"text-align:center;\">406346</div></td></tr>\\n<tr><td class=\"id_column\">7</td><td><a href=\"problem=7\" title=\"Published on Friday, 28th December 2001, 06:00 pm\">10001st prime</a></td><td><div style=\"text-align:center;\">347732</div></td></tr>\\n<tr><td class=\"id_column\">8</td><td><a href=\"problem=8\" title=\"Published on Friday, 11th January 2002, 06:00 pm\">Largest product in a series</a></td><td><div style=\"text-align:center;\">293275</div></td></tr>\\n<tr><td class=\"id_column\">9</td><td><a href=\"problem=9\" title=\"Published on Friday, 25th January 2002, 06:00 pm\">Special Pythagorean triplet</a></td><td><div style=\"text-align:center;\">296440</div></td></tr>\\n<tr><td class=\"id_column\">10</td><td><a href=\"problem=10\" title=\"Published on Friday, 8th February 2002, 06:00 pm\">Summation of primes</a></td><td><div style=\"text-align:center;\">271837</div></td></tr>\\n<tr><td class=\"id_column\">11</td><td><a href=\"problem=11\" title=\"Published on Friday, 22nd February 2002, 06:00 pm\">Largest product in a grid</a></td><td><div style=\"text-align:center;\">196759</div></td></tr>\\n<tr><td class=\"id_column\">12</td><td><a href=\"problem=12\" title=\"Published on Friday, 8th March 2002, 06:00 pm\">Highly divisible triangular number</a></td><td><div style=\"text-align:center;\">184090</div></td></tr>\\n<tr><td class=\"id_column\">13</td><td><a href=\"problem=13\" title=\"Published on Friday, 22nd March 2002, 06:00 pm\">Large sum</a></td><td><div style=\"text-align:center;\">189659</div></td></tr>\\n<tr><td class=\"id_column\">14</td><td><a href=\"problem=14\" title=\"Published on Friday, 5th April 2002, 06:00 pm\">Longest Collatz sequence</a></td><td><div style=\"text-align:center;\">189330</div></td></tr>\\n<tr><td class=\"id_column\">15</td><td><a href=\"problem=15\" title=\"Published on Friday, 19th April 2002, 06:00 pm\">Lattice paths</a></td><td><div style=\"text-align:center;\">156413</div></td></tr>\\n<tr><td class=\"id_column\">16</td><td><a href=\"problem=16\" title=\"Published on Friday, 3rd May 2002, 06:00 pm\">Power digit sum</a></td><td><div style=\"text-align:center;\">191391</div></td></tr>\\n<tr><td class=\"id_column\">17</td><td><a href=\"problem=17\" title=\"Published on Friday, 17th May 2002, 06:00 pm\">Number letter counts</a></td><td><div style=\"text-align:center;\">127233</div></td></tr>\\n<tr><td class=\"id_column\">18</td><td><a href=\"problem=18\" title=\"Published on Friday, 31st May 2002, 06:00 pm\">Maximum path sum I</a></td><td><div style=\"text-align:center;\">122226</div></td></tr>\\n<tr><td class=\"id_column\">19</td><td><a href=\"problem=19\" title=\"Published on Friday, 14th June 2002, 06:00 pm\">Counting Sundays</a></td><td><div style=\"text-align:center;\">113606</div></td></tr>\\n<tr><td class=\"id_column\">20</td><td><a href=\"problem=20\" title=\"Published on Friday, 21st June 2002, 06:00 pm\">Factorial digit sum</a></td><td><div style=\"text-align:center;\">167517</div></td></tr>\\n<tr><td class=\"id_column\">21</td><td><a href=\"problem=21\" title=\"Published on Friday, 5th July 2002, 06:00 pm\">Amicable numbers</a></td><td><div style=\"text-align:center;\">122721</div></td></tr>\\n<tr><td class=\"id_column\">22</td><td><a href=\"problem=22\" title=\"Published on Friday, 19th July 2002, 06:00 pm\">Names scores</a></td><td><div style=\"text-align:center;\">113222</div></td></tr>\\n<tr><td class=\"id_column\">23</td><td><a href=\"problem=23\" title=\"Published on Friday, 2nd August 2002, 06:00 pm\">Non-abundant sums</a></td><td><div style=\"text-align:center;\">87086</div></td></tr>\\n<tr><td class=\"id_column\">24</td><td><a href=\"problem=24\" title=\"Published on Friday, 16th August 2002, 06:00 pm\">Lexicographic permutations</a></td><td><div style=\"text-align:center;\">96727</div></td></tr>\\n<tr><td class=\"id_column\">25</td><td><a href=\"problem=25\" title=\"Published on Friday, 30th August 2002, 06:00 pm\">1000-digit Fibonacci number</a></td><td><div style=\"text-align:center;\">130865</div></td></tr>\\n<tr><td class=\"id_column\">26</td><td><a href=\"problem=26\" title=\"Published on Friday, 13th September 2002, 06:00 pm\">Reciprocal cycles</a></td><td><div style=\"text-align:center;\">70182</div></td></tr>\\n<tr><td class=\"id_column\">27</td><td><a href=\"problem=27\" title=\"Published on Friday, 27th September 2002, 06:00 pm\">Quadratic primes</a></td><td><div style=\"text-align:center;\">73350</div></td></tr>\\n<tr><td class=\"id_column\">28</td><td><a href=\"problem=28\" title=\"Published on Friday, 11th October 2002, 06:00 pm\">Number spiral diagonals</a></td><td><div style=\"text-align:center;\">92087</div></td></tr>\\n<tr><td class=\"id_column\">29</td><td><a href=\"problem=29\" title=\"Published on Friday, 25th October 2002, 06:00 pm\">Distinct powers</a></td><td><div style=\"text-align:center;\">88195</div></td></tr>\\n<tr><td class=\"id_column\">30</td><td><a href=\"problem=30\" title=\"Published on Friday, 8th November 2002, 06:00 pm\">Digit fifth powers</a></td><td><div style=\"text-align:center;\">92396</div></td></tr>\\n<tr><td class=\"id_column\">31</td><td><a href=\"problem=31\" title=\"Published on Friday, 22nd November 2002, 06:00 pm\">Coin sums</a></td><td><div style=\"text-align:center;\">70741</div></td></tr>\\n<tr><td class=\"id_column\">32</td><td><a href=\"problem=32\" title=\"Published on Friday, 6th December 2002, 06:00 pm\">Pandigital products</a></td><td><div style=\"text-align:center;\">59574</div></td></tr>\\n<tr><td class=\"id_column\">33</td><td><a href=\"problem=33\" title=\"Published on Friday, 20th December 2002, 06:00 pm\">Digit cancelling fractions</a></td><td><div style=\"text-align:center;\">60301</div></td></tr>\\n<tr><td class=\"id_column\">34</td><td><a href=\"problem=34\" title=\"Published on Friday, 3rd January 2003, 06:00 pm\">Digit factorials</a></td><td><div style=\"text-align:center;\">79324</div></td></tr>\\n<tr><td class=\"id_column\">35</td><td><a href=\"problem=35\" title=\"Published on Friday, 17th January 2003, 06:00 pm\">Circular primes</a></td><td><div style=\"text-align:center;\">71560</div></td></tr>\\n<tr><td class=\"id_column\">36</td><td><a href=\"problem=36\" title=\"Published on Friday, 31st January 2003, 06:00 pm\">Double-base palindromes</a></td><td><div style=\"text-align:center;\">75381</div></td></tr>\\n<tr><td class=\"id_column\">37</td><td><a href=\"problem=37\" title=\"Published on Friday, 14th February 2003, 06:00 pm\">Truncatable primes</a></td><td><div style=\"text-align:center;\">61939</div></td></tr>\\n<tr><td class=\"id_column\">38</td><td><a href=\"problem=38\" title=\"Published on Friday, 28th February 2003, 06:00 pm\">Pandigital multiples</a></td><td><div style=\"text-align:center;\">52756</div></td></tr>\\n<tr><td class=\"id_column\">39</td><td><a href=\"problem=39\" title=\"Published on Friday, 14th March 2003, 06:00 pm\">Integer right triangles</a></td><td><div style=\"text-align:center;\">61383</div></td></tr>\\n<tr><td class=\"id_column\">40</td><td><a href=\"problem=40\" title=\"Published on Friday, 28th March 2003, 06:00 pm\">Champernowne's constant</a></td><td><div style=\"text-align:center;\">67576</div></td></tr>\\n<tr><td class=\"id_column\">41</td><td><a href=\"problem=41\" title=\"Published on Friday, 11th April 2003, 06:00 pm\">Pandigital prime</a></td><td><div style=\"text-align:center;\">57148</div></td></tr>\\n<tr><td class=\"id_column\">42</td><td><a href=\"problem=42\" title=\"Published on Friday, 25th April 2003, 06:00 pm\">Coded triangle numbers</a></td><td><div style=\"text-align:center;\">63063</div></td></tr>\\n<tr><td class=\"id_column\">43</td><td><a href=\"problem=43\" title=\"Published on Friday, 9th May 2003, 06:00 pm\">Sub-string divisibility</a></td><td><div style=\"text-align:center;\">49880</div></td></tr>\\n<tr><td class=\"id_column\">44</td><td><a href=\"problem=44\" title=\"Published on Friday, 23rd May 2003, 06:00 pm\">Pentagon numbers</a></td><td><div style=\"text-align:center;\">48462</div></td></tr>\\n<tr><td class=\"id_column\">45</td><td><a href=\"problem=45\" title=\"Published on Friday, 6th June 2003, 06:00 pm\">Triangular, pentagonal, and hexagonal</a></td><td><div style=\"text-align:center;\">60049</div></td></tr>\\n<tr><td class=\"id_column\">46</td><td><a href=\"problem=46\" title=\"Published on Friday, 20th June 2003, 06:00 pm\">Goldbach's other conjecture</a></td><td><div style=\"text-align:center;\">51264</div></td></tr>\\n<tr><td class=\"id_column\">47</td><td><a href=\"problem=47\" title=\"Published on Friday, 4th July 2003, 06:00 pm\">Distinct primes factors</a></td><td><div style=\"text-align:center;\">48414</div></td></tr>\\n<tr><td class=\"id_column\">48</td><td><a href=\"problem=48\" title=\"Published on Friday, 18th July 2003, 06:00 pm\">Self powers</a></td><td><div style=\"text-align:center;\">96100</div></td></tr>\\n<tr><td class=\"id_column\">49</td><td><a href=\"problem=49\" title=\"Published on Friday, 1st August 2003, 06:00 pm\">Prime permutations</a></td><td><div style=\"text-align:center;\">48403</div></td></tr>\\n<tr><td class=\"id_column\">50</td><td><a href=\"problem=50\" title=\"Published on Friday, 15th August 2003, 06:00 pm\">Consecutive prime sum</a></td><td><div style=\"text-align:center;\">52117</div></td></tr>\\n</table>"
      ]
     },
     "execution_count": 21,
     "metadata": {},
     "output_type": "execute_result"
    }
   ],
   "source": [
    "print table"
   ]
  },
  {
   "cell_type": "code",
   "execution_count": 22,
   "metadata": {},
   "outputs": [
    {
     "data": {
      "text/plain": [
       "bs4.element.Tag"
      ]
     },
     "execution_count": 22,
     "metadata": {},
     "output_type": "execute_result"
    }
   ],
   "source": [
    "type(table)"
   ]
  },
  {
   "cell_type": "code",
   "execution_count": 23,
   "metadata": {},
   "outputs": [
    {
     "data": {
      "text/plain": [
       "51"
      ]
     },
     "execution_count": 23,
     "metadata": {},
     "output_type": "execute_result"
    }
   ],
   "source": [
    "table_rows = table.find_all('tr')\n",
    "len(table_rows)"
   ]
  },
  {
   "cell_type": "code",
   "execution_count": 24,
   "metadata": {
    "collapsed": true
   },
   "outputs": [
    {
     "name": "stdout",
     "output_type": "stream",
     "text": [
      "\n",
      "1                                                  Multiples of 3 and 5                               775083                                            \n",
      "2                                                  Even Fibonacci numbers                             622073                                            \n",
      "3                                                  Largest prime factor                               445240                                            \n",
      "4                                                  Largest palindrome product                         396033                                            \n",
      "5                                                  Smallest multiple                                  403946                                            \n",
      "6                                                  Sum square difference                              406346                                            \n",
      "7                                                  10001st prime                                      347732                                            \n",
      "8                                                  Largest product in a series                        293275                                            \n",
      "9                                                  Special Pythagorean triplet                        296440                                            \n",
      "10                                                 Summation of primes                                271837                                            \n",
      "11                                                 Largest product in a grid                          196759                                            \n",
      "12                                                 Highly divisible triangular number                 184090                                            \n",
      "13                                                 Large sum                                          189659                                            \n",
      "14                                                 Longest Collatz sequence                           189330                                            \n",
      "15                                                 Lattice paths                                      156413                                            \n",
      "16                                                 Power digit sum                                    191391                                            \n",
      "17                                                 Number letter counts                               127233                                            \n",
      "18                                                 Maximum path sum I                                 122226                                            \n",
      "19                                                 Counting Sundays                                   113606                                            \n",
      "20                                                 Factorial digit sum                                167517                                            \n",
      "21                                                 Amicable numbers                                   122721                                            \n",
      "22                                                 Names scores                                       113222                                            \n",
      "23                                                 Non-abundant sums                                  87086                                             \n",
      "24                                                 Lexicographic permutations                         96727                                             \n",
      "25                                                 1000-digit Fibonacci number                        130865                                            \n",
      "26                                                 Reciprocal cycles                                  70182                                             \n",
      "27                                                 Quadratic primes                                   73350                                             \n",
      "28                                                 Number spiral diagonals                            92087                                             \n",
      "29                                                 Distinct powers                                    88195                                             \n",
      "30                                                 Digit fifth powers                                 92396                                             \n",
      "31                                                 Coin sums                                          70741                                             \n",
      "32                                                 Pandigital products                                59574                                             \n",
      "33                                                 Digit cancelling fractions                         60301                                             \n",
      "34                                                 Digit factorials                                   79324                                             \n",
      "35                                                 Circular primes                                    71560                                             \n",
      "36                                                 Double-base palindromes                            75381                                             \n",
      "37                                                 Truncatable primes                                 61939                                             \n",
      "38                                                 Pandigital multiples                               52756                                             \n",
      "39                                                 Integer right triangles                            61383                                             \n",
      "40                                                 Champernowne's constant                            67576                                             \n",
      "41                                                 Pandigital prime                                   57148                                             \n",
      "42                                                 Coded triangle numbers                             63063                                             \n",
      "43                                                 Sub-string divisibility                            49880                                             \n",
      "44                                                 Pentagon numbers                                   48462                                             \n",
      "45                                                 Triangular, pentagonal, and hexagonal              60049                                             \n",
      "46                                                 Goldbach's other conjecture                        51264                                             \n",
      "47                                                 Distinct primes factors                            48414                                             \n",
      "48                                                 Self powers                                        96100                                             \n",
      "49                                                 Prime permutations                                 48403                                             \n",
      "50                                                 Consecutive prime sum                              52117                                             \n"
     ]
    }
   ],
   "source": [
    "for i in table_rows:\n",
    "    for j in i.find_all('td'):\n",
    "        print str(j.text).ljust(50),\n",
    "    print "
   ]
  },
  {
   "cell_type": "code",
   "execution_count": 25,
   "metadata": {},
   "outputs": [
    {
     "data": {
      "text/plain": [
       "50"
      ]
     },
     "execution_count": 25,
     "metadata": {},
     "output_type": "execute_result"
    }
   ],
   "source": [
    "# Getting urls to problems\n",
    "links = table.find_all('a')\n",
    "len(links)"
   ]
  },
  {
   "cell_type": "code",
   "execution_count": 26,
   "metadata": {
    "collapsed": true
   },
   "outputs": [
    {
     "name": "stdout",
     "output_type": "stream",
     "text": [
      "problem=1\n",
      "problem=2\n",
      "problem=3\n",
      "problem=4\n",
      "problem=5\n",
      "problem=6\n",
      "problem=7\n",
      "problem=8\n",
      "problem=9\n",
      "problem=10\n",
      "problem=11\n",
      "problem=12\n",
      "problem=13\n",
      "problem=14\n",
      "problem=15\n",
      "problem=16\n",
      "problem=17\n",
      "problem=18\n",
      "problem=19\n",
      "problem=20\n",
      "problem=21\n",
      "problem=22\n",
      "problem=23\n",
      "problem=24\n",
      "problem=25\n",
      "problem=26\n",
      "problem=27\n",
      "problem=28\n",
      "problem=29\n",
      "problem=30\n",
      "problem=31\n",
      "problem=32\n",
      "problem=33\n",
      "problem=34\n",
      "problem=35\n",
      "problem=36\n",
      "problem=37\n",
      "problem=38\n",
      "problem=39\n",
      "problem=40\n",
      "problem=41\n",
      "problem=42\n",
      "problem=43\n",
      "problem=44\n",
      "problem=45\n",
      "problem=46\n",
      "problem=47\n",
      "problem=48\n",
      "problem=49\n",
      "problem=50\n"
     ]
    }
   ],
   "source": [
    "for i in links:\n",
    "    print i.attrs['href']"
   ]
  },
  {
   "cell_type": "code",
   "execution_count": 27,
   "metadata": {
    "collapsed": true
   },
   "outputs": [
    {
     "name": "stdout",
     "output_type": "stream",
     "text": [
      "https://projecteuler.net/problem=1\n",
      "https://projecteuler.net/problem=2\n",
      "https://projecteuler.net/problem=3\n",
      "https://projecteuler.net/problem=4\n",
      "https://projecteuler.net/problem=5\n",
      "https://projecteuler.net/problem=6\n",
      "https://projecteuler.net/problem=7\n",
      "https://projecteuler.net/problem=8\n",
      "https://projecteuler.net/problem=9\n",
      "https://projecteuler.net/problem=10\n",
      "https://projecteuler.net/problem=11\n",
      "https://projecteuler.net/problem=12\n",
      "https://projecteuler.net/problem=13\n",
      "https://projecteuler.net/problem=14\n",
      "https://projecteuler.net/problem=15\n",
      "https://projecteuler.net/problem=16\n",
      "https://projecteuler.net/problem=17\n",
      "https://projecteuler.net/problem=18\n",
      "https://projecteuler.net/problem=19\n",
      "https://projecteuler.net/problem=20\n",
      "https://projecteuler.net/problem=21\n",
      "https://projecteuler.net/problem=22\n",
      "https://projecteuler.net/problem=23\n",
      "https://projecteuler.net/problem=24\n",
      "https://projecteuler.net/problem=25\n",
      "https://projecteuler.net/problem=26\n",
      "https://projecteuler.net/problem=27\n",
      "https://projecteuler.net/problem=28\n",
      "https://projecteuler.net/problem=29\n",
      "https://projecteuler.net/problem=30\n",
      "https://projecteuler.net/problem=31\n",
      "https://projecteuler.net/problem=32\n",
      "https://projecteuler.net/problem=33\n",
      "https://projecteuler.net/problem=34\n",
      "https://projecteuler.net/problem=35\n",
      "https://projecteuler.net/problem=36\n",
      "https://projecteuler.net/problem=37\n",
      "https://projecteuler.net/problem=38\n",
      "https://projecteuler.net/problem=39\n",
      "https://projecteuler.net/problem=40\n",
      "https://projecteuler.net/problem=41\n",
      "https://projecteuler.net/problem=42\n",
      "https://projecteuler.net/problem=43\n",
      "https://projecteuler.net/problem=44\n",
      "https://projecteuler.net/problem=45\n",
      "https://projecteuler.net/problem=46\n",
      "https://projecteuler.net/problem=47\n",
      "https://projecteuler.net/problem=48\n",
      "https://projecteuler.net/problem=49\n",
      "https://projecteuler.net/problem=50\n"
     ]
    }
   ],
   "source": [
    "#Converting the relative urls to absolute urls\n",
    "for i in links:\n",
    "    print urlparse.urljoin(projecteuler_url,i.attrs['href'])"
   ]
  },
  {
   "cell_type": "code",
   "execution_count": 28,
   "metadata": {
    "collapsed": true
   },
   "outputs": [
    {
     "data": {
      "text/plain": [
       "'<!DOCTYPE html>\\r\\n<html lang=\"en\">\\r\\n<head>\\r\\n<meta charset=\"utf-8\" />\\r\\n<meta name=\"author\" content=\"Colin Hughes\" />\\r\\n<meta name=\"description\" content=\"A website dedicated to the fascinating world of mathematics and programming\" />\\r\\n<meta name=\"keywords\" content=\"programming,mathematics,problems,puzzles\" />\\r\\n<title>Problem 3 - Project Euler</title>\\r\\n<link rel=\"shortcut icon\" href=\"favicon.ico\" />\\r\\n<link rel=\"stylesheet\" type=\"text/css\" href=\"themes/20180507/style_default.css\" />\\r\\n<script type=\"text/x-mathjax-config\">\\r\\n   MathJax.Hub.Config({\\r\\n      jax: [\"input/TeX\", \"output/HTML-CSS\"],\\r\\n      tex2jax: {\\r\\n         inlineMath: [ [\"$\",\"$\"], [\"\\\\\\\\(\",\"\\\\\\\\)\"] ],\\r\\n         displayMath: [ [\"$$\",\"$$\"], [\"\\\\\\\\[\",\"\\\\\\\\]\"] ],\\r\\n         processEscapes: true\\r\\n      },\\r\\n      \"HTML-CSS\": { availableFonts: [\"TeX\"] }\\r\\n   });\\r\\n</script>\\r\\n<script async src=\"https://cdnjs.cloudflare.com/ajax/libs/mathjax/2.7.4/MathJax.js?config=TeX-AMS_HTML-full,Safe\"></script></head>\\r\\n\\r\\n<body>\\r\\n<div id=\"container\">\\r\\n<div id=\"header\" class=\"noprint\">\\r\\n<div id=\"nav\" class=\"noprint\">\\r\\n<ul>\\r\\n<li><a href=\"about\" title=\"About\" accesskey=\"h\">About</a></li>\\n<li id=\"current\"><a href=\"archives\" title=\"Archives\" accesskey=\"1\">Archives</a></li>\\n<li><a href=\"recent\" title=\"Recent\" accesskey=\"2\">Recent</a></li>\\n<li><a href=\"news\" title=\"News\" accesskey=\"3\">News</a></li>\\n<li><a href=\"register\" title=\"Register\" accesskey=\"4\">Register</a></li>\\n<li><a href=\"sign_in\" title=\"Sign In\" accesskey=\"5\">Sign In</a></li>\\n</ul>\\r\\n</div>\\r\\n\\r\\n<div id=\"logo\" class=\"noprint\">\\r\\n   <div>Project Euler<span>.net</span></div>\\r\\n</div>\\r\\n\\r\\n</div>\\r\\n\\r\\n<div id=\"info_panel\"><a href=\"search\"><img src=\"images/icon_search.png\" alt=\"Search Problems\" title=\"Search Problems\" /></a><a href=\"rss2_euler.xml\"><img src=\"images/icon_rss.png\" alt=\"RSS Feed\" title=\"RSS Feed\" /></a></div>\\r\\n<div id=\"content\">\\r\\n\\r\\n<div style=\"text-align:center;\" class=\"print\"><img src=\"images/print_page_logo.png\" alt=\"projecteuler.net\" style=\"border:none;\" /></div>\\n<h2>Largest prime factor</h2><div id=\"problem_info\"><h3>Problem 3 <span style=\"float:right;\" class=\"info noprint\"><img src=\"images/icon_info.png\" style=\"width:18px;opacity:0.7;\" /><span style=\"left:-400px;width:450px;font-size:80%;\">Published on Friday, 2nd November 2001, 06:00 pm; Solved by 445240;<br />Difficulty rating: 5%</span></h3></div>\\r\\n<div class=\"problem_content\" role=\"problem\">\\r\\n<p>The prime factors of 13195 are 5, 7, 13 and 29.</p>\\n<p>What is the largest prime factor of the number 600851475143 ?</p>\\n\\n\\n</div><br />\\r\\n<br /></div>\\r\\n\\r\\n<div id=\"footer\" class=\"noprint\">\\r\\nProject Euler: <a href=\"copyright\">Copyright Information</a> | <a href=\"privacy\">Privacy Policy</a>\\r\\n<!--/Creative Commons License--><!-- <rdf:RDF xmlns=\"http://web.resource.org/cc/\" xmlns:dc=\"http://purl.org/dc/elements/1.1/\" xmlns:rdf=\"http://www.w3.org/1999/02/22-rdf-syntax-ns#\" xmlns:rdfs=\"http://www.w3.org/2000/01/rdf-schema#\">\\r\\n   <Work rdf:about=\"\">\\r\\n      <license rdf:resource=\"http://creativecommons.org/licenses/by-nc-sa/2.0/uk/\" />\\r\\n   <dc:type rdf:resource=\"http://purl.org/dc/dcmitype/Text\" />\\r\\n   </Work>\\r\\n   <License rdf:about=\"http://creativecommons.org/licenses/by-nc-sa/2.0/uk/\"><permits rdf:resource=\"http://web.resource.org/cc/Reproduction\"/><permits rdf:resource=\"http://web.resource.org/cc/Distribution\"/><requires rdf:resource=\"http://web.resource.org/cc/Notice\"/><requires rdf:resource=\"http://web.resource.org/cc/Attribution\"/><prohibits rdf:resource=\"http://web.resource.org/cc/CommercialUse\"/><permits rdf:resource=\"http://web.resource.org/cc/DerivativeWorks\"/><requires rdf:resource=\"http://web.resource.org/cc/ShareAlike\"/></License></rdf:RDF> -->\\r\\n</div>\\r\\n</div>\\r\\n</body>\\r\\n</html>\\r\\n'"
      ]
     },
     "execution_count": 28,
     "metadata": {},
     "output_type": "execute_result"
    }
   ],
   "source": [
    "project_euler_problem_3 = urllib.urlopen('https://projecteuler.net/problem=3').read()\n",
    "project_euler_problem_3"
   ]
  },
  {
   "cell_type": "code",
   "execution_count": 29,
   "metadata": {
    "collapsed": true
   },
   "outputs": [
    {
     "data": {
      "text/plain": [
       "[<div class=\"problem_content\" role=\"problem\">\\n<p>The prime factors of 13195 are 5, 7, 13 and 29.</p>\\n<p>What is the largest prime factor of the number 600851475143 ?</p>\\n</div>]"
      ]
     },
     "execution_count": 29,
     "metadata": {},
     "output_type": "execute_result"
    }
   ],
   "source": [
    "soup = BeautifulSoup(project_euler_problem_3,'html.parser')\n",
    "problem_content = soup.select('div.problem_content')\n",
    "print problem_content"
   ]
  },
  {
   "cell_type": "code",
   "execution_count": 30,
   "metadata": {},
   "outputs": [
    {
     "name": "stdout",
     "output_type": "stream",
     "text": [
      "The prime factors of 13195 are 5, 7, 13 and 29.\n",
      "What is the largest prime factor of the number 600851475143 ?\n"
     ]
    }
   ],
   "source": [
    "problem_content = problem_content[0]\n",
    "for p in problem_content.select('p'):\n",
    "    print p.text"
   ]
  },
  {
   "cell_type": "code",
   "execution_count": null,
   "metadata": {},
   "outputs": [],
   "source": []
  }
 ],
 "metadata": {
  "kernelspec": {
   "display_name": "Python 2",
   "language": "python",
   "name": "python2"
  },
  "language_info": {
   "codemirror_mode": {
    "name": "ipython",
    "version": 2
   },
   "file_extension": ".py",
   "mimetype": "text/x-python",
   "name": "python",
   "nbconvert_exporter": "python",
   "pygments_lexer": "ipython2",
   "version": "2.7.10"
  }
 },
 "nbformat": 4,
 "nbformat_minor": 2
}
