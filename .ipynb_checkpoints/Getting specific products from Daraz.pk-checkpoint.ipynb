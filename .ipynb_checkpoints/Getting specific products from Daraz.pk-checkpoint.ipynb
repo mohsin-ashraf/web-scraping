{
 "cells": [
  {
   "cell_type": "code",
   "execution_count": 1,
   "metadata": {},
   "outputs": [],
   "source": [
    "import mechanize\n",
    "import lxml.html"
   ]
  },
  {
   "cell_type": "code",
   "execution_count": 2,
   "metadata": {},
   "outputs": [],
   "source": [
    "url = \"https://www.daraz.pk/mens-jackets-coats/?page=\""
   ]
  },
  {
   "cell_type": "code",
   "execution_count": 3,
   "metadata": {},
   "outputs": [],
   "source": [
    "br = mechanize.Browser()\n",
    "br.set_handle_robots(False)\n",
    "br.addheaders = [(\"user-agent\",\"Chrome\")]"
   ]
  },
  {
   "cell_type": "code",
   "execution_count": 11,
   "metadata": {},
   "outputs": [],
   "source": [
    "images_xpath = '//img[@class=\"lazy image -loaded\"]'\n",
    "prices_xpath = '//span[@class=\"price\"]'"
   ]
  },
  {
   "cell_type": "code",
   "execution_count": null,
   "metadata": {},
   "outputs": [
    {
     "name": "stdout",
     "output_type": "stream",
     "text": [
      "https://www.daraz.pk/mens-jackets-coats/?page=1\n"
     ]
    }
   ],
   "source": [
    "links_to_images = []\n",
    "product_prices = []\n",
    "for i in range(1,26):\n",
    "    current_url = url+str(i)\n",
    "    print current_url\n",
    "    html_page = br.open(current_url)\n",
    "    html_page = html_page.read()\n",
    "    tree = lxml.html.fromstring(html_page)\n",
    "    images = tree.xpath(images_xpath)\n",
    "    print len(images)\n",
    "    for image in images:\n",
    "        print image.attrib['src']\n",
    "        links_to_images.append(image.attrib['src'])\n",
    "    prices = tree.xpath(prices_xpath)\n",
    "    for price in prices:\n",
    "        product_prices.append(price.text_content().strip())"
   ]
  },
  {
   "cell_type": "code",
   "execution_count": null,
   "metadata": {},
   "outputs": [],
   "source": []
  }
 ],
 "metadata": {
  "kernelspec": {
   "display_name": "Python 2",
   "language": "python",
   "name": "python2"
  },
  "language_info": {
   "codemirror_mode": {
    "name": "ipython",
    "version": 2
   },
   "file_extension": ".py",
   "mimetype": "text/x-python",
   "name": "python",
   "nbconvert_exporter": "python",
   "pygments_lexer": "ipython2",
   "version": "2.7.10"
  }
 },
 "nbformat": 4,
 "nbformat_minor": 2
}
