{
 "cells": [
  {
   "cell_type": "code",
   "execution_count": 1,
   "metadata": {},
   "outputs": [],
   "source": [
    "#Setting up the script\n",
    "import mechanize\n",
    "import lxml.html\n",
    "import urlparse\n",
    "import csv"
   ]
  },
  {
   "cell_type": "code",
   "execution_count": 2,
   "metadata": {},
   "outputs": [],
   "source": [
    "url = \"https://www.daraz.pk/catalog/?q=computer&page=\"#number will be placed accordingly"
   ]
  },
  {
   "cell_type": "code",
   "execution_count": 3,
   "metadata": {},
   "outputs": [],
   "source": [
    "br = mechanize.Browser()#br short for browser\n",
    "br.set_handle_robots(False)\n",
    "br.addheaders = [(\"user-agent\",\"Chrome\")]"
   ]
  },
  {
   "cell_type": "code",
   "execution_count": 4,
   "metadata": {},
   "outputs": [
    {
     "data": {
      "text/plain": [
       "200"
      ]
     },
     "execution_count": 4,
     "metadata": {},
     "output_type": "execute_result"
    }
   ],
   "source": [
    "#Here I am using hard coded url just for quick first page scraping illustration\n",
    "html_page = br.open('https://www.daraz.pk/catalog/?q=computer')\n",
    "html_page.code"
   ]
  },
  {
   "cell_type": "code",
   "execution_count": 5,
   "metadata": {},
   "outputs": [],
   "source": [
    "html_page = html_page.read()"
   ]
  },
  {
   "cell_type": "code",
   "execution_count": 6,
   "metadata": {},
   "outputs": [],
   "source": [
    "tree = lxml.html.fromstring(html_page)"
   ]
  },
  {
   "cell_type": "code",
   "execution_count": 7,
   "metadata": {},
   "outputs": [],
   "source": [
    "items = tree.cssselect('a.link')"
   ]
  },
  {
   "cell_type": "code",
   "execution_count": 8,
   "metadata": {},
   "outputs": [
    {
     "data": {
      "text/plain": [
       "40"
      ]
     },
     "execution_count": 8,
     "metadata": {},
     "output_type": "execute_result"
    }
   ],
   "source": [
    "len(items)"
   ]
  },
  {
   "cell_type": "code",
   "execution_count": 9,
   "metadata": {},
   "outputs": [
    {
     "name": "stdout",
     "output_type": "stream",
     "text": [
      "https://pk.daraz.io/ZdpB1Juy12YifHIN6KOyVHHd7r4=/fit-in/220x220/filters:fill(white):sharpen(1,0,false):quality(80)/product/96/08476/1.jpg?5079\n",
      "https://pk.daraz.io/o2EuTxaHmC_MZXRfC9tPV8qFIMA=/fit-in/220x220/filters:fill(white):sharpen(1,0,false):quality(80)/product/17/45976/1.jpg?1730\n",
      "https://pk.daraz.io/3561N5dszednkMskaeJHpdwEXJ8=/fit-in/220x220/filters:fill(white):sharpen(1,0,false):quality(80)/product/01/36727/1.jpg?0702\n",
      "https://pk.daraz.io/m3R79sc1i6pQATNjyZg0t5dozwk=/fit-in/220x220/filters:fill(white):sharpen(1,0,false):quality(80)/product/34/92067/1.jpg?3160\n",
      "https://pk.daraz.io/ncLVE9NBlPfsJzPc3UJ-SAIT6Jc=/fit-in/220x220/filters:fill(white):sharpen(1,0,false):quality(80)/product/58/43757/1.jpg?4366\n",
      "https://pk.daraz.io/CKdDdOHhbtgGYJecpDOx2B6xcBE=/fit-in/220x220/filters:fill(white):sharpen(1,0,false):quality(80)/product/48/16727/1.jpg?7780\n",
      "https://pk.daraz.io/S-rHKtDbNGCw-LubreAYsryPSUY=/fit-in/220x220/filters:fill(white):sharpen(1,0,false):quality(80)/product/11/36727/1.jpg?9238\n",
      "https://pk.daraz.io/LEa4mJARGZB-IHvPaJSUnyvCdEI=/fit-in/220x220/filters:fill(white):sharpen(1,0,false):quality(80)/product/31/94996/1.jpg?7994\n",
      "https://pk.daraz.io/Y1ePQv6XEp64vzPtDBf5WOqkYyI=/fit-in/220x220/filters:fill(white):sharpen(1,0,false):quality(80)/product/04/62896/1.jpg?9070\n",
      "https://pk.daraz.io/0uSsI_qX_Te78bSGdQSE--8j3zs=/fit-in/220x220/filters:fill(white):sharpen(1,0,false):quality(80)/product/43/62896/1.jpg?9069\n",
      "https://pk.daraz.io/NJPb-NLhFV-WadbAtKzREgwNg0o=/fit-in/220x220/filters:fill(white):sharpen(1,0,false):quality(80)/product/40/62896/1.jpg?9066\n",
      "https://pk.daraz.io/PLWXH-OpIz8R3Eowu8mWiZosTcY=/fit-in/220x220/filters:fill(white):sharpen(1,0,false):quality(80)/product/17/95438/1.jpg?0758\n",
      "https://pk.daraz.io/KnwssZxvUz7HxzvGqAUjLG6XlF0=/fit-in/220x220/filters:fill(white):sharpen(1,0,false):quality(80)/product/14/12558/1.jpg?7132\n",
      "https://pk.daraz.io/xAJsPE2FtTO35kHIHYxQ26p8n7A=/fit-in/220x220/filters:fill(white):sharpen(1,0,false):quality(80)/product/68/90558/1.jpg?9689\n",
      "https://pk.daraz.io/7vlRuYecFDH615ewwLbR5q6vNfQ=/fit-in/220x220/filters:fill(white):sharpen(1,0,false):quality(80)/product/62/12558/1.jpg?7132\n",
      "https://pk.daraz.io/lf085dyPJFZSMeCtEU1QS6dqATY=/fit-in/220x220/filters:fill(white):sharpen(1,0,false):quality(80)/product/47/21358/1.jpg?5356\n",
      "https://pk.daraz.io/CBhf-NrBRAAlNrvTGvxvKF4YzHw=/fit-in/220x220/filters:fill(white):sharpen(1,0,false):quality(80)/product/16/05238/1.jpg?7445\n",
      "https://pk.daraz.io/gGSpdPx0qfOuZUwnP0NRpdwwu5M=/fit-in/220x220/filters:fill(white):sharpen(1,0,false):quality(80)/product/14/84458/1.jpg?9532\n",
      "https://pk.daraz.io/vcx7YW1X6DoBL9LlLBkEPBmnhlI=/fit-in/220x220/filters:fill(white):sharpen(1,0,false):quality(80)/product/56/08038/1.jpg?3020\n",
      "https://pk.daraz.io/CkRQXPxJhAQSkABztUysS8c2s2s=/fit-in/220x220/filters:fill(white):sharpen(1,0,false):quality(80)/product/58/79948/1.jpg?8678\n",
      "https://pk.daraz.io/XBQap_pZfJVDKcfYaEG3yMvt3lI=/fit-in/220x220/filters:fill(white):sharpen(1,0,false):quality(80)/product/38/86977/1.jpg?4042\n",
      "https://pk.daraz.io/REj__Ozald4IJMD8oBkaLiMnM38=/fit-in/220x220/filters:fill(white):sharpen(1,0,false):quality(80)/product/21/17158/1.jpg?0379\n",
      "https://pk.daraz.io/3CZ2RkdalfQbDxyv_VW2cHui8_Q=/fit-in/220x220/filters:fill(white):sharpen(1,0,false):quality(80)/product/33/14948/1.jpg?0657\n",
      "https://pk.daraz.io/gym2NUwfxUrJoriKQkXY95jGym4=/fit-in/220x220/filters:fill(white):sharpen(1,0,false):quality(80)/product/96/51058/1.jpg?0419\n",
      "https://pk.daraz.io/fU6Eo8NyLDvYlYVCnxt3L7gLZRY=/fit-in/220x220/filters:fill(white):sharpen(1,0,false):quality(80)/product/07/50848/1.jpg?5246\n",
      "https://pk.daraz.io/uUwvd-6D2BsNbMG3mYdI8zWQE1o=/fit-in/220x220/filters:fill(white):sharpen(1,0,false):quality(80)/product/70/64848/1.jpg?9349\n",
      "https://pk.daraz.io/2YL12DBjPOgiHMxlHNdM-wLYKRw=/fit-in/220x220/filters:fill(white):sharpen(1,0,false):quality(80)/product/53/34158/1.jpg?6767\n",
      "https://pk.daraz.io/HMBHWXTPk4orwFEIiQzVhobu-DA=/fit-in/220x220/filters:fill(white):sharpen(1,0,false):quality(80)/product/98/42838/1.jpg?5221\n",
      "https://pk.daraz.io/EFdYL--ojtPpzg6KpO95I_B21wg=/fit-in/220x220/filters:fill(white):sharpen(1,0,false):quality(80)/product/60/56738/1.jpg?7913\n",
      "https://pk.daraz.io/1D-BGonha7pgQuha_c4KHfq3JBw=/fit-in/220x220/filters:fill(white):sharpen(1,0,false):quality(80)/product/96/50848/1.jpg?5246\n",
      "https://pk.daraz.io/3sKXgsiUpUnoqWJPi1E6B85Xc24=/fit-in/220x220/filters:fill(white):sharpen(1,0,false):quality(80)/product/27/05538/1.jpg?3321\n",
      "https://pk.daraz.io/6WOLrOoDYF0CJR_Ura32seB0OwM=/fit-in/220x220/filters:fill(white):sharpen(1,0,false):quality(80)/product/58/51748/1.jpg?0192\n",
      "https://pk.daraz.io/Q3Qss9crpY32yXe7AOHRZs8qr0U=/fit-in/220x220/filters:fill(white):sharpen(1,0,false):quality(80)/product/74/85738/1.jpg?6023\n",
      "https://pk.daraz.io/mPYuZFFG--US1kiVPakJ4U-gTfU=/fit-in/220x220/filters:fill(white):sharpen(1,0,false):quality(80)/product/66/71338/1.jpg?3849\n",
      "https://pk.daraz.io/UVnM8Sn_DBDJUxpdpJGBQuz6KE8=/fit-in/220x220/filters:fill(white):sharpen(1,0,false):quality(80)/product/71/60848/1.jpg?5249\n",
      "https://pk.daraz.io/wZRUheM8JbG23AEH_zQDClQSC4o=/fit-in/220x220/filters:fill(white):sharpen(1,0,false):quality(80)/product/32/36638/1.jpg?8149\n",
      "https://pk.daraz.io/IkbSyH0-fl0_bDo8P8s7JLQHeXk=/fit-in/220x220/filters:fill(white):sharpen(1,0,false):quality(80)/product/88/42108/1.jpg?3941\n",
      "https://pk.daraz.io/c6S3InQe6t7AeU04k8edVN4T20A=/fit-in/220x220/filters:fill(white):sharpen(1,0,false):quality(80)/product/26/68008/1.jpg?3653\n",
      "https://pk.daraz.io/iYZDlXW9SpL8zTrs-lg7zuFK7TM=/fit-in/220x220/filters:fill(white):sharpen(1,0,false):quality(80)/product/52/00068/1.jpg?0652\n",
      "https://pk.daraz.io/pHXMYRffYOTZRX-IOImY6uwTQGA=/fit-in/220x220/filters:fill(white):sharpen(1,0,false):quality(80)/product/02/00068/1.jpg?0654\n"
     ]
    },
    {
     "data": {
      "text/plain": [
       "40"
      ]
     },
     "execution_count": 9,
     "metadata": {},
     "output_type": "execute_result"
    }
   ],
   "source": [
    "images = []\n",
    "for i in items:\n",
    "    image = i.cssselect('img')\n",
    "    image = image[0]\n",
    "    link_to_image = image.attrib['data-src']\n",
    "    print link_to_image\n",
    "    images.append(link_to_image)\n",
    "len(images)"
   ]
  },
  {
   "cell_type": "code",
   "execution_count": 13,
   "metadata": {},
   "outputs": [
    {
     "name": "stdout",
     "output_type": "stream",
     "text": [
      "Bicycle Computer - 15 Function - Black\n",
      "Stoga M9s - Full HD 1080P Dual Lens Car Video DVR Camera\n",
      "MX Master 2S Wireless Mouse with FLOW Cross-Computer Control and File Sharing for PC and Apple\n",
      "Noctis 450-ROG-G1 - Mid Tower Computer Case - Black\n",
      "Phantom White Steel / Plastic Enthusiast ATX Full Tower Computer Case PHAN-001WT\n",
      "H370 - USB Computer Headset\n",
      "MX Anywhere 2S Wireless Mouse with FLOW Cross-Computer Control and File Sharing for PC and Apple\n",
      "Cambridge Igcse® Computer Science (Free Web Resources) (Pb) 2015\n",
      "Click Start: Computer Science For Schools Pakistan Edition Book-6\n",
      "Click Start: Computer Science For Schools Pakistan Edition Book-5\n",
      "Click Start: Computer Science For Schools Pakistan Edition Book-1\n",
      "Antscope - 8.0MM Waterproof Wifi Endoscope Borescope Inspection Camera 2.0 MP HD 720P 5M\n",
      "Bluetooth Speaker with HD Sound &amp; Extra Battery Timing - Multi Color\n",
      "Mini Speakers For Computers &amp; Mobiles\n",
      "Fast Wireless Bluetooth Mouse - Black\n",
      "Mini USB Fan gadgets Flexible Cool For laptop PC Notebook high quality For Power Bank Laptop Desktop PC Computer\n",
      "S1 2.4G Wireless Keyboard Air Mouse Remote Controller with Touchpad for Computer\n",
      "Micro Sd Usb Mobile Card Reader\n",
      "OMNI CRADLE DESKTOP CHARGER USB TYPE-C\n",
      "Universal size Computer Office Chair Cover\n",
      "Pack of 50 Pages Computer Color Paper - A4 Size\n",
      "Leopard Elastic Computer Chair Cover\n",
      "Universal Size Black Computer Office Chair Cover\n",
      "FC-124 120mm RGB Ring Colorful LED Computer Case Cooling Fan\n",
      "250 gb external hard drive for pc and laptop\n",
      "JoyStick Double Shock Wired USB 2.0 Multi Colour Fancy Gamepad Joystick Joypad Game Controller Pad For PC Laptop Computer For Win7/8/10 XP\n",
      "Sades SA810 3.5mm Stereo PS4/Xbox One/Computer/phones Over Ear Gaming Headphone - Camouflage\n",
      "ZornWee Wireless Fashion Mouse 2.4G,Black\n",
      "Elasticity Office Computer Side Arm Chair Cover\n",
      "320 GB external hard drive for PC and Laptop\n",
      "YONTEX - USB 3.0 Charge and Sync Data Cord for iPhone iPad\n",
      "Desktop Computer 6200 Intel Core i3 2nd Gen 2120 (3.1 GHz) 8 GB 1TB HDD Windows 10 Professional - Certified Pc\n",
      "Elastic Fabric Office Computer Chair Cover - Black\n",
      "KTV Karaoke Mixer Dual Wireless Microphone Set\n",
      "4 Port USB Hub - 2.0 - Black (with 1 months warranty)\n",
      "USB Printer Cable 1.5 meter for Computer and other Devices\n",
      "Computer Networking With Internet Protocols And Technology (Pb)\n",
      "Computer And Communication Networks (Pb)\n",
      "Gochange - Wire Ferrule Crimp Tool Square Crimp\n",
      "Molain - Electric Spin Spa B Long Handle Bath Brush With 3 Spare Brush Heads\n"
     ]
    },
    {
     "data": {
      "text/plain": [
       "40"
      ]
     },
     "execution_count": 13,
     "metadata": {},
     "output_type": "execute_result"
    }
   ],
   "source": [
    "altname = []\n",
    "for i in items:\n",
    "    image = i.cssselect('img')\n",
    "    image = image[0]\n",
    "    name = image.attrib['alt']\n",
    "    print name\n",
    "    altname.append(name)\n",
    "len(images)"
   ]
  },
  {
   "cell_type": "code",
   "execution_count": 16,
   "metadata": {},
   "outputs": [
    {
     "data": {
      "text/plain": [
       "40"
      ]
     },
     "execution_count": 16,
     "metadata": {},
     "output_type": "execute_result"
    }
   ],
   "source": [
    "xpath = '//section[@class=\"products\"]//a//span[@class=\"name\"]'\n",
    "item_names = tree.xpath(xpath)\n",
    "len(item_names)"
   ]
  },
  {
   "cell_type": "code",
   "execution_count": 18,
   "metadata": {},
   "outputs": [],
   "source": [
    "item_names = [x.text_content() for x in item_names]"
   ]
  },
  {
   "cell_type": "code",
   "execution_count": 20,
   "metadata": {},
   "outputs": [
    {
     "name": "stdout",
     "output_type": "stream",
     "text": [
      "Bicycle Computer - 15 Function - Black\n",
      "Stoga M9s - Full HD 1080P Dual Lens Car Video DVR Camera\n",
      "MX Master 2S Wireless Mouse with FLOW Cross-Computer Control and File Sharing for PC and Apple\n",
      "Noctis 450-ROG-G1 - Mid Tower Computer Case - Black\n",
      "Phantom White Steel / Plastic Enthusiast ATX Full Tower Computer Case PHAN-001WT\n",
      "H370 - USB Computer Headset\n",
      "MX Anywhere 2S Wireless Mouse with FLOW Cross-Computer Control and File Sharing for PC and Apple\n",
      "Cambridge Igcse® Computer Science (Free Web Resources) (Pb) 2015\n",
      "Click Start: Computer Science For Schools Pakistan Edition Book-6\n",
      "Click Start: Computer Science For Schools Pakistan Edition Book-5\n",
      "Click Start: Computer Science For Schools Pakistan Edition Book-1\n",
      "Antscope - 8.0MM Waterproof Wifi Endoscope Borescope Inspection Camera 2.0 MP HD 720P 5M\n",
      "Bluetooth Speaker with HD Sound & Extra Battery Timing - Multi Color\n",
      "Mini Speakers For Computers & Mobiles\n",
      "Fast Wireless Bluetooth Mouse - Black\n",
      "Mini USB Fan gadgets Flexible Cool For laptop PC Notebook high quality For Power Bank Laptop Desktop PC Computer\n",
      "S1 2.4G Wireless Keyboard Air Mouse Remote Controller with Touchpad for Computer\n",
      "Micro Sd Usb Mobile Card Reader\n",
      "OMNI CRADLE DESKTOP CHARGER USB TYPE-C\n",
      "Universal size Computer Office Chair Cover\n",
      "Pack of 50 Pages Computer Color Paper - A4 Size\n",
      "Leopard Elastic Computer Chair Cover\n",
      "Universal Size Black Computer Office Chair Cover\n",
      "FC-124 120mm RGB Ring Colorful LED Computer Case Cooling Fan\n",
      "250 gb external hard drive for pc and laptop\n",
      "JoyStick Double Shock Wired USB 2.0 Multi Colour Fancy Gamepad Joystick Joypad Game Controller Pad For PC Laptop Computer For Win7/8/10 XP\n",
      "Sades SA810 3.5mm Stereo PS4/Xbox One/Computer/phones Over Ear Gaming Headphone - Camouflage\n",
      "ZornWee Wireless Fashion Mouse 2.4G,Black\n",
      "Elasticity Office Computer Side Arm Chair Cover\n",
      "320 GB external hard drive for PC and Laptop\n",
      "YONTEX - USB 3.0 Charge and Sync Data Cord for iPhone iPad\n",
      "Desktop Computer 6200 Intel Core i3 2nd Gen 2120 (3.1 GHz) 8 GB 1TB HDD Windows 10 Professional - Certified Pc\n",
      "Elastic Fabric Office Computer Chair Cover - Black\n",
      "KTV Karaoke Mixer Dual Wireless Microphone Set\n",
      "4 Port USB Hub - 2.0 - Black (with 1 months warranty)\n",
      "USB Printer Cable 1.5 meter for Computer and other Devices\n",
      "Computer Networking With Internet Protocols And Technology (Pb)\n",
      "Computer And Communication Networks (Pb)\n",
      "Gochange - Wire Ferrule Crimp Tool Square Crimp\n",
      "Molain - Electric Spin Spa B Long Handle Bath Brush With 3 Spare Brush Heads\n"
     ]
    }
   ],
   "source": [
    "for i in item_names:\n",
    "    print i"
   ]
  },
  {
   "cell_type": "code",
   "execution_count": 21,
   "metadata": {},
   "outputs": [
    {
     "data": {
      "text/plain": [
       "40"
      ]
     },
     "execution_count": 21,
     "metadata": {},
     "output_type": "execute_result"
    }
   ],
   "source": [
    "xpath = '//section[@class=\"products\"]//a//div[@class=\"price-container clearfix\"]//span[@class=\"price-box ri\"]'\n",
    "prices_of_items = tree.xpath(xpath)\n",
    "prices = []\n",
    "len(prices_of_items)\n",
    "for i in prices_of_items:\n",
    "    prices.append(i.cssselect('span')[1].text_content().replace('Rs','').replace('.',''))\n",
    "len(prices)"
   ]
  },
  {
   "cell_type": "code",
   "execution_count": 22,
   "metadata": {},
   "outputs": [
    {
     "name": "stdout",
     "output_type": "stream",
     "text": [
      "710\n",
      "14,999\n",
      "9,999\n",
      "21,499\n",
      "17,499\n",
      "3,499\n",
      "9,999\n",
      "1,495\n",
      "475\n",
      "395\n",
      "225\n",
      "4,499\n",
      "349\n",
      "799\n",
      "399\n",
      "150\n",
      "1,268\n",
      "59\n",
      "2,999\n",
      "499\n",
      "116\n",
      "489\n",
      "540\n",
      "1,499\n",
      "2,500\n",
      "599\n",
      "3,499\n",
      "599\n",
      "479\n",
      "3,300\n",
      "1,299\n",
      "17,890\n",
      "312\n",
      "8,999\n",
      "139\n",
      "100\n",
      "1,104\n",
      "1,041\n",
      "1,499\n",
      "3,999\n"
     ]
    }
   ],
   "source": [
    "for i in prices:\n",
    "    print i.strip()"
   ]
  },
  {
   "cell_type": "code",
   "execution_count": 24,
   "metadata": {},
   "outputs": [],
   "source": [
    "def safeStr(obj):\n",
    "    try: return str(obj)\n",
    "    except UnicodeEncodeError:\n",
    "        return obj.encode('ascii', 'ignore').decode('ascii')\n",
    "    except: return \"\""
   ]
  },
  {
   "cell_type": "code",
   "execution_count": 26,
   "metadata": {},
   "outputs": [],
   "source": [
    "csv_file = open('daraz.pk.csv','wb')\n",
    "csv_writer = csv.writer(csv_file)\n",
    "csv_writer.writerow([\"Product Name\",\"Product Price\",\"Product Image\"])\n",
    "for name,price,img in zip(item_names,prices,images):\n",
    "    csv_writer.writerow([safeStr(name),safeStr(price),safeStr(img)])\n",
    "csv_file.close()"
   ]
  },
  {
   "cell_type": "code",
   "execution_count": 27,
   "metadata": {},
   "outputs": [],
   "source": [
    "csv_file = open('Data/daraz.pk.csv','wb')\n",
    "csv_writer = csv.writer(csv_file)\n",
    "csv_writer.writerow([\"Product Name\",\"Product Price\",\"Product Image\"])\n",
    "for name,price,img in zip(item_names,prices,images):\n",
    "    csv_writer.writerow([safeStr(name),safeStr(price),safeStr(img)])\n",
    "csv_file.close()"
   ]
  },
  {
   "cell_type": "code",
   "execution_count": 28,
   "metadata": {},
   "outputs": [
    {
     "data": {
      "text/plain": [
       "40"
      ]
     },
     "execution_count": 28,
     "metadata": {},
     "output_type": "execute_result"
    }
   ],
   "source": [
    "links_to_item_detail = []\n",
    "for i in items:\n",
    "    links_to_item_detail.append(i.attrib['href'])\n",
    "len(links_to_item_detail)"
   ]
  },
  {
   "cell_type": "code",
   "execution_count": 29,
   "metadata": {},
   "outputs": [
    {
     "name": "stdout",
     "output_type": "stream",
     "text": [
      "https://www.daraz.pk/wheels-bicycle-computer-15-function-black-6748069.html\n",
      "https://www.daraz.pk/computer-hardware-shop-stoga-m9s-full-hd-1080p-dual-lens-car-video-dvr-camera-6795471.html\n",
      "https://www.daraz.pk/logitech-mx-master-2s-wireless-mouse-with-flow-cross-computer-control-and-file-sharing-for-pc-and-apple-7276310.html\n",
      "https://www.daraz.pk/nzxt-noctis-450-rog-g1-mid-tower-computer-case-black-7602943.html\n",
      "https://www.daraz.pk/nzxt-phantom-white-steel-plastic-enthusiast-atx-full-tower-computer-case-phan-001wt-7573485.html\n",
      "https://www.daraz.pk/logitech-h370-usb-computer-headset-7276184.html\n",
      "https://www.daraz.pk/logitech-mx-anywhere-2s-wireless-mouse-with-flow-cross-computer-control-and-file-sharing-for-pc-and-apple-7276311.html\n",
      "https://www.daraz.pk/hodder-education-uk-cambridge-igcser-computer-science-free-web-resources-pb-2015-6994913.html\n",
      "https://www.daraz.pk/cambridge-university-press-india-click-start-computer-science-for-schools-pakistan-edition-book-6-6982640.html\n",
      "https://www.daraz.pk/cambridge-university-press-india-click-start-computer-science-for-schools-pakistan-edition-book-5-6982634.html\n",
      "https://www.daraz.pk/cambridge-university-press-india-click-start-computer-science-for-schools-pakistan-edition-book-1-6982604.html\n",
      "https://www.daraz.pk/computer-hardware-shop-antscope-8.0mm-waterproof-wifi-endoscope-borescope-inspection-camera-2.0-mp-hd-720p-5m-8345971.html\n",
      "https://www.daraz.pk/computer-tech-bluetooth-speaker-with-hd-sound-extra-battery-timing-multi-color-8552141.html\n",
      "https://www.daraz.pk/shopit.pk-mini-speakers-for-computers-mobiles-8550986.html\n",
      "https://www.daraz.pk/computer-tech-fast-wireless-bluetooth-mouse-black-8552126.html\n",
      "https://www.daraz.pk/taha-traders-mini-usb-fan-gadgets-flexible-cool-for-laptop-pc-notebook-high-quality-for-power-bank-laptop-desktop-pc-computer-8531274.html\n",
      "https://www.daraz.pk/sti-gadgets-s1-2.4g-wireless-keyboard-air-mouse-remote-controller-with-touchpad-for-computer-8325061.html\n",
      "https://www.daraz.pk/computer-technology-micro-sd-usb-mobile-card-reader-8544841.html\n",
      "https://www.daraz.pk/computer-hardware-shop-omni-cradle-desktop-charger-usb-type-c-8308065.html\n",
      "https://www.daraz.pk/akiamore-universal-size-computer-office-chair-cover-8499785.html\n",
      "https://www.daraz.pk/findurfuture-pack-of-50-pages-computer-color-paper-a4-size-7796883.html\n",
      "https://www.daraz.pk/cosmetics2me-leopard-elastic-computer-chair-cover-8517112.html\n",
      "https://www.daraz.pk/peachstore-universal-size-black-computer-office-chair-cover-8494133.html\n",
      "https://www.daraz.pk/fantech-fc-124-120mm-rgb-ring-colorful-led-computer-case-cooling-fan-8501569.html\n",
      "https://www.daraz.pk/computer-hardware-250-gb-external-hard-drive-for-pc-and-laptop-8480570.html\n",
      "https://www.daraz.pk/pakistan-electronics-joystick-double-shock-wired-usb-2.0-multi-colour-fancy-gamepad-joystick-joypad-game-controller-pad-for-pc-laptop-computer-for-win7810-xp-8484607.html\n",
      "https://www.daraz.pk/sades-sades-sa810-3.5mm-stereo-ps4xbox-onecomputerphones-over-ear-gaming-headphone-camouflage-8514335.html\n",
      "https://www.daraz.pk/computerzone-zornwee-wireless-fashion-mouse-2.4gblack-8382489.html\n",
      "https://www.daraz.pk/sjewellery-elasticity-office-computer-side-arm-chair-cover-8376506.html\n",
      "https://www.daraz.pk/computer-hardware-320-gb-external-hard-drive-for-pc-and-laptop-8480569.html\n",
      "https://www.daraz.pk/computer-hardware-shop-yontex-usb-3.0-charge-and-sync-data-cord-for-iphone-ipad-8355072.html\n",
      "https://www.daraz.pk/hp-desktop-computer-6200-intel-core-i3-2nd-gen-2120-3.1-ghz-8-gb-1tb-hdd-windows-10-professional-certified-pc-8471585.html\n",
      "https://www.daraz.pk/cosmetics2me-elastic-fabric-office-computer-chair-cover-black-8375847.html\n",
      "https://www.daraz.pk/computer-hardware-shop-ktv-karaoke-mixer-dual-wireless-microphone-set-8331766.html\n",
      "https://www.daraz.pk/computerzone-4-port-usb-hub-2.0-black-with-1-months-warranty-8480617.html\n",
      "https://www.daraz.pk/osmp-usb-printer-cable-1.5-meter-for-computer-and-other-devices-8366323.html\n",
      "https://www.daraz.pk/multi-line-books-computer-networking-with-internet-protocols-and-technology-pb-8012488.html\n",
      "https://www.daraz.pk/multi-line-books-computer-and-communication-networks-pb-8008662.html\n",
      "https://www.daraz.pk/computer-hardware-shop-gochange-wire-ferrule-crimp-tool-square-crimp-8600025.html\n",
      "https://www.daraz.pk/computer-hardware-shop-molain-electric-spin-spa-b-long-handle-bath-brush-with-3-spare-brush-heads-8600020.html\n"
     ]
    }
   ],
   "source": [
    "for i in links_to_item_detail:\n",
    "    print i"
   ]
  },
  {
   "cell_type": "code",
   "execution_count": 35,
   "metadata": {},
   "outputs": [
    {
     "name": "stdout",
     "output_type": "stream",
     "text": [
      "15 Function Bicycle Computer\n",
      "Speed Meter\n",
      "ODO Meter\n",
      "Trip Distance\n",
      "Maximum Speed\n",
      "Elapsed Time\n",
      "************************************************************************************************************************\n",
      "12M Pixels Dual lenses let you have three different display when recording\n",
      "1920*1080 Full HD resolution H.264 MOV photography compression \n",
      "technology,super wide front 170 degree and rear 140 degree 6G lens\n",
      "GPS module can record the whole driving track,using random \n",
      "specialized software,you can see the video at computer.At same time \n",
      "connect Google map through the Internet and the driving track shows on \n",
      "the map and you also can see driving speed,time and date.\n",
      "G-sensor,also known as the gravity sensor,allowing this car dvr \n",
      "to detect and record any sudden motion or speed changes in X,Y and Z \n",
      "axis meaning as soon as any sharp braking rapid acceleration, excessive \n",
      "cornering or sudden impact occurs.\n",
      "Strong ability to achieve a best quality video especially the night vision in low lightness.\n",
      "Built-in GPS Tracking\n",
      "************************************************************************************************************************\n",
      "2.4 GHz & Bluetooth LE Connectivity\n",
      "4000 dpi Darkfield Sensor\n",
      "Built-In 500 mAh LiPo Battery\n",
      "Fast Scroll Wheel\n",
      "Supports up to 3 Systems Simultaneously\n",
      "Unifying Receiver Included\n",
      "************************************************************************************************************************\n",
      "For Technical Queries, contact Daraz Expert @0301-8228361(Between 10am To 7pm)\n",
      "Mid Tower Computer Case CA-RO450-G1\n",
      "SECC Steel, ABS Plastic\n",
      "CPU Cooler: 180mm\n",
      "Fan Speed:  1,000 RPM, 1,200 RPM\n",
      "2 x USB 3.0, 2 x USB 2.0, 1 x Audio/Mic Front Ports\n",
      "************************************************************************************************************************\n",
      "NZXT Phantom White Steel / Plastic Enthusiast ATX Full Tower Computer Case PHAN-001WT\n",
      "Steel / Plastic ATX Full Tower\n",
      "1 x HD Audio/Mic, 2 x USB 2.0, 1 x eSATA\n",
      "4 Fans Included\n",
      "************************************************************************************************************************\n"
     ]
    }
   ],
   "source": [
    "features = []\n",
    "for counter , url in enumerate(links_to_item_detail):\n",
    "    if counter == 5:\n",
    "        break\n",
    "    page = br.open(url).read()\n",
    "    tree = lxml.html.fromstring(page)\n",
    "    key_features = tree.xpath('//div[@class=\"list -features -compact -no-float\"]')\n",
    "    key_features = key_features[0]\n",
    "    key_features_list = key_features.cssselect('li')\n",
    "    product_features = []\n",
    "    for feature in key_features_list:\n",
    "        product_features.append(feature.text_content().strip())\n",
    "        print feature.text_content().strip()\n",
    "    print \"*\"*120"
   ]
  },
  {
   "cell_type": "markdown",
   "metadata": {},
   "source": [
    "# You can write all of these features to csv file as well but I am not going to do that here"
   ]
  }
 ],
 "metadata": {
  "kernelspec": {
   "display_name": "Python 2",
   "language": "python",
   "name": "python2"
  },
  "language_info": {
   "codemirror_mode": {
    "name": "ipython",
    "version": 2
   },
   "file_extension": ".py",
   "mimetype": "text/x-python",
   "name": "python",
   "nbconvert_exporter": "python",
   "pygments_lexer": "ipython2",
   "version": "2.7.10"
  }
 },
 "nbformat": 4,
 "nbformat_minor": 2
}
