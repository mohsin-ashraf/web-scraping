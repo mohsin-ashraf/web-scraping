{
 "cells": [
  {
   "cell_type": "markdown",
   "metadata": {},
   "source": [
    "# <h1 style='text-align:center;font-size:70px;' > Try to write in a better way <br> Check the spellings and grammers Change </h1>"
   ]
  },
  {
   "cell_type": "code",
   "execution_count": null,
   "metadata": {},
   "outputs": [],
   "source": [
    "print \"Hello World!\\n\"\n",
    "print 'Hello World!\\n'\n",
    "print \"\"\"Hello\n",
    "World!\n",
    "    \"\"\""
   ]
  },
  {
   "cell_type": "markdown",
   "metadata": {},
   "source": [
    "# Python supports dynamic typing so you dont have to specify the type of the variables"
   ]
  },
  {
   "cell_type": "code",
   "execution_count": null,
   "metadata": {},
   "outputs": [],
   "source": [
    "var_1 = 'String variable'\n",
    "var_2 = 1213\n",
    "var_3 = 312.321312\n",
    "var_4 = 3+9j\n",
    "var_5 = 'a'\n",
    "print var_1\n",
    "print var_2\n",
    "print var_3\n",
    "print var_4\n",
    "print var_5"
   ]
  },
  {
   "cell_type": "markdown",
   "metadata": {},
   "source": [
    "# Types of the variables can be changed at any moment"
   ]
  },
  {
   "cell_type": "code",
   "execution_count": null,
   "metadata": {},
   "outputs": [],
   "source": [
    "var_1 = 312312\n",
    "var_2 = 'afdsffasd'\n",
    "print var_1\n",
    "print var_2"
   ]
  },
  {
   "cell_type": "markdown",
   "metadata": {},
   "source": [
    "# Loops \n",
    "## C++ loops\n",
    "<code>    for (int i =0 ; i < 10 ; i++)\n",
    "        cout <<i<<endl;\n",
    "</code>\n",
    "## Equalent Python loop\n",
    "<code>     for i in range(10):\n",
    "           print i\n",
    "</code>\n",
    "    What is happening implicetly?<br>\n",
    "<code>    for i in range(0,10,1):\n",
    "            print i</code>"
   ]
  },
  {
   "cell_type": "code",
   "execution_count": null,
   "metadata": {},
   "outputs": [],
   "source": [
    "#Basic for loop\n",
    "for i in range(10):\n",
    "    print i\n",
    "\n",
    "#the above code is quite similer to the following C++ code\n",
    "#    for (int i =0 ; i < 10 ; i++)\n",
    "#        cout <<i<<endl;"
   ]
  },
  {
   "cell_type": "code",
   "execution_count": null,
   "metadata": {},
   "outputs": [],
   "source": [
    "start = 1\n",
    "end = 15\n",
    "step = 2\n",
    "for i in range(start,end,step):\n",
    "    print i\n"
   ]
  },
  {
   "cell_type": "code",
   "execution_count": null,
   "metadata": {},
   "outputs": [],
   "source": [
    "number = 1\n",
    "while number < 10:\n",
    "    print number\n",
    "    number+=1 #there is no ++ operator in python as C++ or java have use += instead"
   ]
  },
  {
   "cell_type": "markdown",
   "metadata": {},
   "source": [
    "# Conditional Statements"
   ]
  },
  {
   "cell_type": "code",
   "execution_count": 1,
   "metadata": {},
   "outputs": [
    {
     "name": "stdout",
     "output_type": "stream",
     "text": [
      "Yes the number is equal to  10\n"
     ]
    }
   ],
   "source": [
    "number = 10\n",
    "if number == 5:\n",
    "    print \"This block will not execute\"\n",
    "elif number == 7:\n",
    "    print \"Nothing is gonna happen\"\n",
    "#you can put as many elif as you want\n",
    "elif number == 10:\n",
    "    print \"Yes the number is equal to \",number\n",
    "else:\n",
    "    print \"I will take care of the rest\""
   ]
  },
  {
   "cell_type": "code",
   "execution_count": null,
   "metadata": {},
   "outputs": [],
   "source": []
  },
  {
   "cell_type": "markdown",
   "metadata": {},
   "source": [
    "# Lists (Arrays)\n",
    "But python lists are way more than just arrays in C++ or java\n",
    "Python lists exposes a very powerfull interface its not just a list it can act like a stack \n",
    "it can be used as a FIFO Que"
   ]
  },
  {
   "cell_type": "code",
   "execution_count": null,
   "metadata": {},
   "outputs": [],
   "source": []
  },
  {
   "cell_type": "code",
   "execution_count": null,
   "metadata": {},
   "outputs": [],
   "source": [
    "empty_array = []\n",
    "filled_array = [1,2,3,4,5,6,7,8,9]\n",
    "# filling numbers in empty_array\n",
    "for i in range(10):\n",
    "    empty_array.append(i+1)\n",
    "print \"Elements in empty array : \",empty_array\n",
    "print \"Elements in filled_array : \",filled_array"
   ]
  },
  {
   "cell_type": "code",
   "execution_count": null,
   "metadata": {},
   "outputs": [],
   "source": [
    "#iterating through the list\n",
    "size_of_array = len(empty_array)\n",
    "for i in range(size_of_array):\n",
    "    print empty_array[i],"
   ]
  },
  {
   "cell_type": "code",
   "execution_count": null,
   "metadata": {},
   "outputs": [],
   "source": [
    "#Example of forEach loop in python\n",
    "for i in empty_array:\n",
    "    print i,"
   ]
  },
  {
   "cell_type": "code",
   "execution_count": null,
   "metadata": {},
   "outputs": [],
   "source": []
  },
  {
   "cell_type": "code",
   "execution_count": null,
   "metadata": {},
   "outputs": [],
   "source": [
    "#two D arrays\n",
    "two_d_array = [[1,2,3,4],[5,6,7,8],[9,10,11,12]]\n",
    "print two_d_array"
   ]
  },
  {
   "cell_type": "code",
   "execution_count": null,
   "metadata": {},
   "outputs": [],
   "source": [
    "for i in two_d_array:\n",
    "    for j in i:\n",
    "        print str(j).center(5,' '),\n",
    "    print "
   ]
  },
  {
   "cell_type": "code",
   "execution_count": null,
   "metadata": {},
   "outputs": [],
   "source": [
    "initial_sized_array = [0]*1000\n",
    "print len(initial_sized_array)"
   ]
  },
  {
   "cell_type": "markdown",
   "metadata": {},
   "source": [
    "# Functions"
   ]
  },
  {
   "cell_type": "code",
   "execution_count": null,
   "metadata": {},
   "outputs": [],
   "source": [
    "# Functions do not need the return type or the types of perameters that we are going to pass \n",
    "def add(a,b):\n",
    "    return a+b\n",
    "print add(10,20)"
   ]
  },
  {
   "cell_type": "code",
   "execution_count": null,
   "metadata": {},
   "outputs": [],
   "source": [
    "#Implicite return is None\n",
    "def void_function():\n",
    "    pass#just pass do nothing\n",
    "a = void_function()\n",
    "print a"
   ]
  },
  {
   "cell_type": "code",
   "execution_count": null,
   "metadata": {},
   "outputs": [],
   "source": [
    "string = \"Hi I'm a string\""
   ]
  },
  {
   "cell_type": "code",
   "execution_count": null,
   "metadata": {},
   "outputs": [],
   "source": [
    "print string.upper()"
   ]
  },
  {
   "cell_type": "code",
   "execution_count": null,
   "metadata": {},
   "outputs": [],
   "source": [
    "print string.lower()"
   ]
  },
  {
   "cell_type": "code",
   "execution_count": null,
   "metadata": {},
   "outputs": [],
   "source": [
    "print string.title()"
   ]
  },
  {
   "cell_type": "code",
   "execution_count": null,
   "metadata": {},
   "outputs": [],
   "source": [
    "print string.replace('string','very good string')"
   ]
  },
  {
   "cell_type": "code",
   "execution_count": null,
   "metadata": {},
   "outputs": [],
   "source": [
    "#Orignal string is still the same as it was initially created.\n",
    "print string"
   ]
  },
  {
   "cell_type": "code",
   "execution_count": null,
   "metadata": {},
   "outputs": [],
   "source": [
    "print string.find(\"string\")"
   ]
  },
  {
   "cell_type": "code",
   "execution_count": null,
   "metadata": {},
   "outputs": [],
   "source": [
    "print string.find('This is not in the string')"
   ]
  },
  {
   "cell_type": "code",
   "execution_count": null,
   "metadata": {},
   "outputs": [],
   "source": [
    "print string.isdigit()"
   ]
  },
  {
   "cell_type": "code",
   "execution_count": null,
   "metadata": {},
   "outputs": [],
   "source": [
    "string += ' 434'\n",
    "print string.find('434')"
   ]
  },
  {
   "cell_type": "code",
   "execution_count": null,
   "metadata": {},
   "outputs": [],
   "source": [
    "print string"
   ]
  },
  {
   "cell_type": "code",
   "execution_count": null,
   "metadata": {},
   "outputs": [],
   "source": [
    "print string[16:19]"
   ]
  },
  {
   "cell_type": "code",
   "execution_count": null,
   "metadata": {},
   "outputs": [],
   "source": [
    "print string[16:19].isdigit()"
   ]
  }
 ],
 "metadata": {
  "kernelspec": {
   "display_name": "Python 2",
   "language": "python",
   "name": "python2"
  },
  "language_info": {
   "codemirror_mode": {
    "name": "ipython",
    "version": 2
   },
   "file_extension": ".py",
   "mimetype": "text/x-python",
   "name": "python",
   "nbconvert_exporter": "python",
   "pygments_lexer": "ipython2",
   "version": "2.7.10"
  }
 },
 "nbformat": 4,
 "nbformat_minor": 2
}
