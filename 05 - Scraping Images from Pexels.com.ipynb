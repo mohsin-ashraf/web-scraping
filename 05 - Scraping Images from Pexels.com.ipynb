{
 "cells": [
  {
   "cell_type": "code",
   "execution_count": null,
   "metadata": {},
   "outputs": [],
   "source": [
    "#Setting up the script\n",
    "import mechanize\n",
    "import lxml.html\n",
    "import urlparse\n",
    "import csv"
   ]
  },
  {
   "cell_type": "code",
   "execution_count": null,
   "metadata": {},
   "outputs": [],
   "source": [
    "br = mechanize.Browser()#br short for browser\n",
    "br.set_handle_robots(False)\n",
    "br.addheaders = [(\"user-agent\",\"Chrome\")]"
   ]
  },
  {
   "cell_type": "code",
   "execution_count": null,
   "metadata": {},
   "outputs": [],
   "source": [
    "url = \"https://www.pexels.com/search/sky/?page=1&format=js\""
   ]
  },
  {
   "cell_type": "code",
   "execution_count": null,
   "metadata": {},
   "outputs": [],
   "source": [
    "html_page = br.open(url).read()\n",
    "tree = lxml.html.fromstring(html_page)"
   ]
  },
  {
   "cell_type": "code",
   "execution_count": null,
   "metadata": {},
   "outputs": [],
   "source": [
    "images = tree.cssselect('img')\n",
    "len(images)"
   ]
  },
  {
   "cell_type": "code",
   "execution_count": null,
   "metadata": {},
   "outputs": [],
   "source": [
    "for image in images:\n",
    "    try:\n",
    "        print image.attrib['srcset']\n",
    "    except KeyError: \n",
    "        continue\n",
    "    #print \"*\"*100"
   ]
  },
  {
   "cell_type": "code",
   "execution_count": null,
   "metadata": {},
   "outputs": [],
   "source": [
    "url_string = \"https://images.pexels.com/photos/912110/pexels-photo-912110.jpeg?auto=compress&cs=tinysrgb&h=350 1x, https://images.pexels.com/photos/912110/pexels-photo-912110.jpeg?auto=compress&cs=tinysrgb&dpr=2&h=350 2x\"\n",
    "split_url = url_string.split('?')\n",
    "split_url"
   ]
  },
  {
   "cell_type": "code",
   "execution_count": null,
   "metadata": {},
   "outputs": [],
   "source": [
    "split_url[0]"
   ]
  },
  {
   "cell_type": "code",
   "execution_count": null,
   "metadata": {},
   "outputs": [],
   "source": [
    "urls_to_images = []\n",
    "for image in images:\n",
    "    try:\n",
    "        urls_to_images.append(image.attrib['srcset'].split('?')[0])\n",
    "    except KeyError: \n",
    "        continue"
   ]
  },
  {
   "cell_type": "code",
   "execution_count": null,
   "metadata": {},
   "outputs": [],
   "source": [
    "len(urls_to_images)"
   ]
  },
  {
   "cell_type": "code",
   "execution_count": null,
   "metadata": {},
   "outputs": [],
   "source": [
    "#getting the extension of the image file maybe it's a jpeg,png or other type of image\n",
    "type_of_image = urls_to_images[0]\n",
    "type_of_image.split('.')\n",
    "type_of_image"
   ]
  },
  {
   "cell_type": "code",
   "execution_count": null,
   "metadata": {},
   "outputs": [],
   "source": [
    "type_of_image = type_of_image.split('.')"
   ]
  },
  {
   "cell_type": "code",
   "execution_count": null,
   "metadata": {},
   "outputs": [],
   "source": [
    "type_of_image.reverse()\n",
    "type_of_image[0]"
   ]
  },
  {
   "cell_type": "code",
   "execution_count": null,
   "metadata": {},
   "outputs": [],
   "source": [
    "for counter,url in enumerate(urls_to_images):\n",
    "    type_of_image = url.split('.')[len(url.split('.'))-1]\n",
    "    print type_of_image\n",
    "    image = open('Data/Images/'+str(counter+1)+\".\"+type_of_image,\"wb\")\n",
    "    image.write(br.open(url).read())\n",
    "    image.close()"
   ]
  },
  {
   "cell_type": "code",
   "execution_count": null,
   "metadata": {},
   "outputs": [],
   "source": [
    "counter = 1\n",
    "for page in range(1,15):\n",
    "    url = \"https://www.pexels.com/search/sky/?page=\"+str(page)+\"&format=js\"\n",
    "    html_page = br.open(url).read()\n",
    "    tree = lxml.html.fromstring(html_page)\n",
    "    images = tree.cssselect('img')\n",
    "    urls_to_images = []\n",
    "    for image in images:\n",
    "        try:\n",
    "            urls_to_images.append(image.attrib['srcset'].split('?')[0])\n",
    "        except KeyError: \n",
    "            continue\n",
    "    #print len(urls_to_images)\n",
    "    urls_to_images = [x.replace('\\\\\\\"',\"\") for x in urls_to_images]\n",
    "    for url_to_img in urls_to_images:\n",
    "        print url_to_img\n",
    "        type_of_image = url_to_img.split('.')[len(url_to_img.split('.'))-1]\n",
    "        image = open('Data/Images/sky_'+str(counter+1)+\".\"+type_of_image,\"wb\")\n",
    "        image.write(br.open(url_to_img).read())\n",
    "        image.close()"
   ]
  }
 ],
 "metadata": {
  "kernelspec": {
   "display_name": "Python 2",
   "language": "python",
   "name": "python2"
  },
  "language_info": {
   "codemirror_mode": {
    "name": "ipython",
    "version": 2
   },
   "file_extension": ".py",
   "mimetype": "text/x-python",
   "name": "python",
   "nbconvert_exporter": "python",
   "pygments_lexer": "ipython2",
   "version": "2.7.10"
  }
 },
 "nbformat": 4,
 "nbformat_minor": 2
}
